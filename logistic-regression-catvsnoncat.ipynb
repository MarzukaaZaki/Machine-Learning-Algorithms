{
 "cells": [
  {
   "cell_type": "code",
   "execution_count": 1,
   "id": "92759f27",
   "metadata": {
    "_cell_guid": "b1076dfc-b9ad-4769-8c92-a6c4dae69d19",
    "_uuid": "8f2839f25d086af736a60e9eeb907d3b93b6e0e5",
    "execution": {
     "iopub.execute_input": "2024-07-11T06:06:23.368126Z",
     "iopub.status.busy": "2024-07-11T06:06:23.367603Z",
     "iopub.status.idle": "2024-07-11T06:06:23.598280Z",
     "shell.execute_reply": "2024-07-11T06:06:23.597193Z"
    },
    "papermill": {
     "duration": 0.245323,
     "end_time": "2024-07-11T06:06:23.600908",
     "exception": false,
     "start_time": "2024-07-11T06:06:23.355585",
     "status": "completed"
    },
    "tags": []
   },
   "outputs": [],
   "source": [
    "import numpy as np\n",
    "import h5py\n",
    "import matplotlib.pyplot as plt"
   ]
  },
  {
   "cell_type": "markdown",
   "id": "3e49bc2c",
   "metadata": {
    "papermill": {
     "duration": 0.00754,
     "end_time": "2024-07-11T06:06:23.616931",
     "exception": false,
     "start_time": "2024-07-11T06:06:23.609391",
     "status": "completed"
    },
    "tags": []
   },
   "source": [
    "## Loading the Dataset"
   ]
  },
  {
   "cell_type": "code",
   "execution_count": 2,
   "id": "16d09673",
   "metadata": {
    "execution": {
     "iopub.execute_input": "2024-07-11T06:06:23.633650Z",
     "iopub.status.busy": "2024-07-11T06:06:23.633265Z",
     "iopub.status.idle": "2024-07-11T06:06:23.641254Z",
     "shell.execute_reply": "2024-07-11T06:06:23.640105Z"
    },
    "papermill": {
     "duration": 0.019366,
     "end_time": "2024-07-11T06:06:23.643827",
     "exception": false,
     "start_time": "2024-07-11T06:06:23.624461",
     "status": "completed"
    },
    "tags": []
   },
   "outputs": [],
   "source": [
    "def load_dataset():\n",
    "    train_dataset = h5py.File('/kaggle/input/catvnoncat/catvnoncat/train_catvnoncat.h5', \"r\")\n",
    "    train_set_x_orig = np.array(train_dataset[\"train_set_x\"][:]) # your train set features\n",
    "    train_set_y_orig = np.array(train_dataset[\"train_set_y\"][:]) # your train set labels\n",
    "\n",
    "    test_dataset = h5py.File('/kaggle/input/catvnoncat/catvnoncat/test_catvnoncat.h5', \"r\")\n",
    "    test_set_x_orig = np.array(test_dataset[\"test_set_x\"][:]) # your test set features\n",
    "    test_set_y_orig = np.array(test_dataset[\"test_set_y\"][:]) # your test set labels\n",
    "\n",
    "    classes = np.array(test_dataset[\"list_classes\"][:]) # the list of classes\n",
    "    \n",
    "    train_set_y_orig = train_set_y_orig.reshape((1, train_set_y_orig.shape[0]))\n",
    "    test_set_y_orig = test_set_y_orig.reshape((1, test_set_y_orig.shape[0]))\n",
    "    \n",
    "    return train_set_x_orig, train_set_y_orig, test_set_x_orig, test_set_y_orig, classes"
   ]
  },
  {
   "cell_type": "code",
   "execution_count": 3,
   "id": "16e52dd6",
   "metadata": {
    "_kg_hide-input": true,
    "execution": {
     "iopub.execute_input": "2024-07-11T06:06:23.661110Z",
     "iopub.status.busy": "2024-07-11T06:06:23.660120Z",
     "iopub.status.idle": "2024-07-11T06:06:23.786401Z",
     "shell.execute_reply": "2024-07-11T06:06:23.785191Z"
    },
    "papermill": {
     "duration": 0.138105,
     "end_time": "2024-07-11T06:06:23.789494",
     "exception": false,
     "start_time": "2024-07-11T06:06:23.651389",
     "status": "completed"
    },
    "tags": []
   },
   "outputs": [],
   "source": [
    "# Loading the data (cat/non-cat)\n",
    "train_set_x_orig, train_set_y, test_set_x_orig, test_set_y, classes = load_dataset()"
   ]
  },
  {
   "cell_type": "markdown",
   "id": "dca82011",
   "metadata": {
    "papermill": {
     "duration": 0.007086,
     "end_time": "2024-07-11T06:06:23.804266",
     "exception": false,
     "start_time": "2024-07-11T06:06:23.797180",
     "status": "completed"
    },
    "tags": []
   },
   "source": [
    "## Understanding the Dataset"
   ]
  },
  {
   "cell_type": "code",
   "execution_count": 4,
   "id": "f3fa6854",
   "metadata": {
    "execution": {
     "iopub.execute_input": "2024-07-11T06:06:23.821381Z",
     "iopub.status.busy": "2024-07-11T06:06:23.820948Z",
     "iopub.status.idle": "2024-07-11T06:06:23.827328Z",
     "shell.execute_reply": "2024-07-11T06:06:23.825908Z"
    },
    "papermill": {
     "duration": 0.018756,
     "end_time": "2024-07-11T06:06:23.830638",
     "exception": false,
     "start_time": "2024-07-11T06:06:23.811882",
     "status": "completed"
    },
    "tags": []
   },
   "outputs": [
    {
     "name": "stdout",
     "output_type": "stream",
     "text": [
      "[b'non-cat' b'cat']\n"
     ]
    }
   ],
   "source": [
    "print(classes)"
   ]
  },
  {
   "cell_type": "code",
   "execution_count": 5,
   "id": "a1038e92",
   "metadata": {
    "execution": {
     "iopub.execute_input": "2024-07-11T06:06:23.848292Z",
     "iopub.status.busy": "2024-07-11T06:06:23.847857Z",
     "iopub.status.idle": "2024-07-11T06:06:24.072943Z",
     "shell.execute_reply": "2024-07-11T06:06:24.071849Z"
    },
    "papermill": {
     "duration": 0.237039,
     "end_time": "2024-07-11T06:06:24.075472",
     "exception": false,
     "start_time": "2024-07-11T06:06:23.838433",
     "status": "completed"
    },
    "tags": []
   },
   "outputs": [
    {
     "data": {
      "image/png": "[encoded data removed]",
      "text/plain": [
       "<Figure size 640x480 with 1 Axes>"
      ]
     },
     "metadata": {},
     "output_type": "display_data"
    }
   ],
   "source": [
    "plt.imshow(train_set_x_orig[0])\n",
    "plt.show()"
   ]
  },
  {
   "cell_type": "code",
   "execution_count": 6,
   "id": "10d10cd2",
   "metadata": {
    "_kg_hide-input": true,
    "execution": {
     "iopub.execute_input": "2024-07-11T06:06:24.093479Z",
     "iopub.status.busy": "2024-07-11T06:06:24.092723Z",
     "iopub.status.idle": "2024-07-11T06:06:24.099371Z",
     "shell.execute_reply": "2024-07-11T06:06:24.098318Z"
    },
    "papermill": {
     "duration": 0.018468,
     "end_time": "2024-07-11T06:06:24.102081",
     "exception": false,
     "start_time": "2024-07-11T06:06:24.083613",
     "status": "completed"
    },
    "tags": []
   },
   "outputs": [
    {
     "name": "stdout",
     "output_type": "stream",
     "text": [
      "Number of training samples: 209\n",
      "Number of test samples: 50\n",
      "Dimensions of each image, (height, width, no. of channels): (64, 64, 3)\n",
      "Dimensions of train set labels: (1, 209)\n",
      "Dimensions of test set labels: (1, 50)\n"
     ]
    }
   ],
   "source": [
    "m_train = train_set_x_orig.shape[0]\n",
    "m_test = test_set_x_orig.shape[0]\n",
    "\n",
    "print(\"Number of training samples:\",train_set_x_orig.shape[0])\n",
    "print(\"Number of test samples:\",test_set_x_orig.shape[0])\n",
    "print(\"Dimensions of each image, (height, width, no. of channels):\", train_set_x_orig.shape[1:])\n",
    "print(\"Dimensions of train set labels:\", train_set_y.shape )\n",
    "print(\"Dimensions of test set labels:\", test_set_y.shape )"
   ]
  },
  {
   "cell_type": "markdown",
   "id": "5712b50d",
   "metadata": {
    "papermill": {
     "duration": 0.007775,
     "end_time": "2024-07-11T06:06:24.117721",
     "exception": false,
     "start_time": "2024-07-11T06:06:24.109946",
     "status": "completed"
    },
    "tags": []
   },
   "source": [
    "## Flattening the feature datasets into a feature vector"
   ]
  },
  {
   "cell_type": "code",
   "execution_count": 7,
   "id": "99c65af5",
   "metadata": {
    "execution": {
     "iopub.execute_input": "2024-07-11T06:06:24.135728Z",
     "iopub.status.busy": "2024-07-11T06:06:24.134713Z",
     "iopub.status.idle": "2024-07-11T06:06:24.140530Z",
     "shell.execute_reply": "2024-07-11T06:06:24.139329Z"
    },
    "papermill": {
     "duration": 0.017244,
     "end_time": "2024-07-11T06:06:24.142861",
     "exception": false,
     "start_time": "2024-07-11T06:06:24.125617",
     "status": "completed"
    },
    "tags": []
   },
   "outputs": [],
   "source": [
    "train_set_x_flatten = train_set_x_orig.reshape(train_set_x_orig.shape[0], -1).T\n",
    "test_set_x_flatten = test_set_x_orig.reshape(test_set_x_orig.shape[0], -1).T"
   ]
  },
  {
   "cell_type": "code",
   "execution_count": 8,
   "id": "98123cd9",
   "metadata": {
    "execution": {
     "iopub.execute_input": "2024-07-11T06:06:24.161000Z",
     "iopub.status.busy": "2024-07-11T06:06:24.160629Z",
     "iopub.status.idle": "2024-07-11T06:06:24.166643Z",
     "shell.execute_reply": "2024-07-11T06:06:24.165560Z"
    },
    "papermill": {
     "duration": 0.017509,
     "end_time": "2024-07-11T06:06:24.169003",
     "exception": false,
     "start_time": "2024-07-11T06:06:24.151494",
     "status": "completed"
    },
    "tags": []
   },
   "outputs": [
    {
     "name": "stdout",
     "output_type": "stream",
     "text": [
      "Dimensions of train set features after flattening: (12288, 209)\n",
      "Dimensions of test set features after flattening: (12288, 50)\n"
     ]
    }
   ],
   "source": [
    "print(\"Dimensions of train set features after flattening:\", train_set_x_flatten.shape )\n",
    "print(\"Dimensions of test set features after flattening:\", test_set_x_flatten.shape )"
   ]
  },
  {
   "cell_type": "code",
   "execution_count": 9,
   "id": "b166369b",
   "metadata": {
    "execution": {
     "iopub.execute_input": "2024-07-11T06:06:24.187487Z",
     "iopub.status.busy": "2024-07-11T06:06:24.186540Z",
     "iopub.status.idle": "2024-07-11T06:06:24.192105Z",
     "shell.execute_reply": "2024-07-11T06:06:24.191119Z"
    },
    "papermill": {
     "duration": 0.017362,
     "end_time": "2024-07-11T06:06:24.194446",
     "exception": false,
     "start_time": "2024-07-11T06:06:24.177084",
     "status": "completed"
    },
    "tags": []
   },
   "outputs": [
    {
     "name": "stdout",
     "output_type": "stream",
     "text": [
      "No. of features in each image: 12288\n"
     ]
    }
   ],
   "source": [
    "nx = train_set_x_flatten.shape[0]\n",
    "print(\"No. of features in each image:\", nx)"
   ]
  },
  {
   "cell_type": "markdown",
   "id": "9c52c5cb",
   "metadata": {
    "papermill": {
     "duration": 0.007772,
     "end_time": "2024-07-11T06:06:24.210276",
     "exception": false,
     "start_time": "2024-07-11T06:06:24.202504",
     "status": "completed"
    },
    "tags": []
   },
   "source": [
    "## Standardize the Data"
   ]
  },
  {
   "cell_type": "code",
   "execution_count": 10,
   "id": "d8c10a03",
   "metadata": {
    "execution": {
     "iopub.execute_input": "2024-07-11T06:06:24.228929Z",
     "iopub.status.busy": "2024-07-11T06:06:24.227946Z",
     "iopub.status.idle": "2024-07-11T06:06:24.247168Z",
     "shell.execute_reply": "2024-07-11T06:06:24.245990Z"
    },
    "papermill": {
     "duration": 0.031353,
     "end_time": "2024-07-11T06:06:24.249851",
     "exception": false,
     "start_time": "2024-07-11T06:06:24.218498",
     "status": "completed"
    },
    "tags": []
   },
   "outputs": [],
   "source": [
    "train_set_x = train_set_x_flatten / 255\n",
    "test_set_x = test_set_x_flatten / 255"
   ]
  },
  {
   "cell_type": "markdown",
   "id": "0ac93c4c",
   "metadata": {
    "papermill": {
     "duration": 0.007898,
     "end_time": "2024-07-11T06:06:24.265944",
     "exception": false,
     "start_time": "2024-07-11T06:06:24.258046",
     "status": "completed"
    },
    "tags": []
   },
   "source": [
    "## Initializing the Model Parameters"
   ]
  },
  {
   "cell_type": "code",
   "execution_count": 11,
   "id": "d8c1ff8d",
   "metadata": {
    "execution": {
     "iopub.execute_input": "2024-07-11T06:06:24.284621Z",
     "iopub.status.busy": "2024-07-11T06:06:24.283726Z",
     "iopub.status.idle": "2024-07-11T06:06:24.292788Z",
     "shell.execute_reply": "2024-07-11T06:06:24.291224Z"
    },
    "papermill": {
     "duration": 0.021401,
     "end_time": "2024-07-11T06:06:24.295789",
     "exception": false,
     "start_time": "2024-07-11T06:06:24.274388",
     "status": "completed"
    },
    "tags": []
   },
   "outputs": [
    {
     "name": "stdout",
     "output_type": "stream",
     "text": [
      "Initialized weight matrix:\n",
      " [[ 0.00137494]\n",
      " [ 0.00409406]\n",
      " [-0.01276333]\n",
      " ...\n",
      " [-0.01120017]\n",
      " [ 0.00769249]\n",
      " [ 0.00017258]]\n",
      "Initialized bias:\n",
      " -0.011129801788146097\n"
     ]
    }
   ],
   "source": [
    "def initialize_params(no_of_features):\n",
    "    \n",
    "    \"\"\"\n",
    "    Initialize parameters for logistic regression.\n",
    "\n",
    "    This function sets the weights to zero and the bias to zero for a logistic regression model.\n",
    "\n",
    "    Arguments:\n",
    "    no_of_features -- Number of input features.\n",
    "\n",
    "    Returns:\n",
    "    w -- Weight vector of shape (no_of_features, 1), initialized to zeros.\n",
    "    b -- Bias term, initialized to zero.\n",
    "    \"\"\"\n",
    "\n",
    "    # Weights\n",
    "    # w = np.zeros((no_of_features,1))\n",
    "    w = np.random.randn(no_of_features, 1)*0.01\n",
    "\n",
    "    # Bias\n",
    "    # b = 0\n",
    "    b = np.random.randn()*0.01\n",
    "    \n",
    "    return w, b\n",
    "\n",
    "w, b = initialize_params(nx)\n",
    "\n",
    "print(\"Initialized weight matrix:\\n\",w)\n",
    "print(\"Initialized bias:\\n\",b)\n",
    "        "
   ]
  },
  {
   "cell_type": "markdown",
   "id": "0ab9c79f",
   "metadata": {
    "papermill": {
     "duration": 0.008073,
     "end_time": "2024-07-11T06:06:24.313034",
     "exception": false,
     "start_time": "2024-07-11T06:06:24.304961",
     "status": "completed"
    },
    "tags": []
   },
   "source": [
    "## Building the Model"
   ]
  },
  {
   "cell_type": "code",
   "execution_count": 12,
   "id": "0273fd15",
   "metadata": {
    "execution": {
     "iopub.execute_input": "2024-07-11T06:06:24.331355Z",
     "iopub.status.busy": "2024-07-11T06:06:24.330926Z",
     "iopub.status.idle": "2024-07-11T06:06:24.336313Z",
     "shell.execute_reply": "2024-07-11T06:06:24.335211Z"
    },
    "papermill": {
     "duration": 0.017722,
     "end_time": "2024-07-11T06:06:24.338967",
     "exception": false,
     "start_time": "2024-07-11T06:06:24.321245",
     "status": "completed"
    },
    "tags": []
   },
   "outputs": [],
   "source": [
    "def sigmoid(z):\n",
    "    \"\"\"\n",
    "    Compute the sigmoid of z element-wise.\n",
    "    \n",
    "    Arguments:\n",
    "    z -- A NumPy array of shape (1, m)\n",
    "    \n",
    "    Returns:\n",
    "    A NumPy array of the same shape as z, where the sigmoid function has been applied to each element.\n",
    "    \"\"\"\n",
    "    return 1/(1+ np.exp(-z))"
   ]
  },
  {
   "cell_type": "code",
   "execution_count": 13,
   "id": "6d27983e",
   "metadata": {
    "execution": {
     "iopub.execute_input": "2024-07-11T06:06:24.357486Z",
     "iopub.status.busy": "2024-07-11T06:06:24.357088Z",
     "iopub.status.idle": "2024-07-11T06:06:24.363987Z",
     "shell.execute_reply": "2024-07-11T06:06:24.362854Z"
    },
    "papermill": {
     "duration": 0.019343,
     "end_time": "2024-07-11T06:06:24.366549",
     "exception": false,
     "start_time": "2024-07-11T06:06:24.347206",
     "status": "completed"
    },
    "tags": []
   },
   "outputs": [],
   "source": [
    "def propagate(w, b, X, Y):\n",
    "    Z = np.dot(w.T, X) + b\n",
    "    A = sigmoid(Z)\n",
    "    dZ = A - Y\n",
    "    m = X.shape[1]\n",
    "    dw = (np.dot(X,dZ.T))/m\n",
    "    db = (np.sum(dZ))/m\n",
    "    \n",
    "    gradients = {\"dw\": dw,\n",
    "                 \"db\": db}\n",
    "    return A, gradients\n",
    "    \n",
    "    \n",
    "    "
   ]
  },
  {
   "cell_type": "code",
   "execution_count": 14,
   "id": "d2695cba",
   "metadata": {
    "execution": {
     "iopub.execute_input": "2024-07-11T06:06:24.385920Z",
     "iopub.status.busy": "2024-07-11T06:06:24.385529Z",
     "iopub.status.idle": "2024-07-11T06:06:24.398930Z",
     "shell.execute_reply": "2024-07-11T06:06:24.396889Z"
    },
    "papermill": {
     "duration": 0.026929,
     "end_time": "2024-07-11T06:06:24.402447",
     "exception": false,
     "start_time": "2024-07-11T06:06:24.375518",
     "status": "completed"
    },
    "tags": []
   },
   "outputs": [
    {
     "name": "stdout",
     "output_type": "stream",
     "text": [
      "{'dw': array([[0.02936487],\n",
      "       [0.04539702],\n",
      "       [0.03174385],\n",
      "       ...,\n",
      "       [0.02856287],\n",
      "       [0.04063866],\n",
      "       [0.01313604]]), 'db': 0.11007464299291113}\n"
     ]
    }
   ],
   "source": [
    "predictions, gradients = propagate(w, b, train_set_x, train_set_y)\n",
    "print(gradients)"
   ]
  },
  {
   "cell_type": "code",
   "execution_count": 15,
   "id": "9b3b16f2",
   "metadata": {
    "execution": {
     "iopub.execute_input": "2024-07-11T06:06:24.432909Z",
     "iopub.status.busy": "2024-07-11T06:06:24.432374Z",
     "iopub.status.idle": "2024-07-11T06:06:24.440325Z",
     "shell.execute_reply": "2024-07-11T06:06:24.438911Z"
    },
    "papermill": {
     "duration": 0.026825,
     "end_time": "2024-07-11T06:06:24.443503",
     "exception": false,
     "start_time": "2024-07-11T06:06:24.416678",
     "status": "completed"
    },
    "tags": []
   },
   "outputs": [],
   "source": [
    "def calculate_cost(predictions, Y):\n",
    "    m = Y.shape[1]\n",
    "    epsilon = 1e-10\n",
    "    predictions = np.clip(predictions, epsilon, 1-epsilon)\n",
    "    cost = -np.sum((np.log(predictions))*Y + (1 - Y)*(np.log(1 - predictions)))/m\n",
    "    return cost"
   ]
  },
  {
   "cell_type": "code",
   "execution_count": 16,
   "id": "9fb49213",
   "metadata": {
    "execution": {
     "iopub.execute_input": "2024-07-11T06:06:24.473625Z",
     "iopub.status.busy": "2024-07-11T06:06:24.473029Z",
     "iopub.status.idle": "2024-07-11T06:06:24.479728Z",
     "shell.execute_reply": "2024-07-11T06:06:24.478579Z"
    },
    "papermill": {
     "duration": 0.027589,
     "end_time": "2024-07-11T06:06:24.485371",
     "exception": false,
     "start_time": "2024-07-11T06:06:24.457782",
     "status": "completed"
    },
    "tags": []
   },
   "outputs": [
    {
     "name": "stdout",
     "output_type": "stream",
     "text": [
      "0.6803715012162643\n"
     ]
    }
   ],
   "source": [
    "cost = calculate_cost(predictions, train_set_y)\n",
    "print(cost)"
   ]
  },
  {
   "cell_type": "code",
   "execution_count": 17,
   "id": "62f1810f",
   "metadata": {
    "execution": {
     "iopub.execute_input": "2024-07-11T06:06:24.516209Z",
     "iopub.status.busy": "2024-07-11T06:06:24.515772Z",
     "iopub.status.idle": "2024-07-11T06:06:24.521655Z",
     "shell.execute_reply": "2024-07-11T06:06:24.520463Z"
    },
    "papermill": {
     "duration": 0.024138,
     "end_time": "2024-07-11T06:06:24.524139",
     "exception": false,
     "start_time": "2024-07-11T06:06:24.500001",
     "status": "completed"
    },
    "tags": []
   },
   "outputs": [],
   "source": [
    "def optimize(w, b, gradients, learning_rate):\n",
    "    dw = gradients[\"dw\"]\n",
    "    db = gradients[\"db\"]\n",
    "    w = w - (learning_rate)*dw\n",
    "    b = b - (learning_rate)*db\n",
    "    \n",
    "    params = {\"w\": w,\n",
    "             \"b\": b}\n",
    "    return params"
   ]
  },
  {
   "cell_type": "code",
   "execution_count": 18,
   "id": "bc6f0237",
   "metadata": {
    "execution": {
     "iopub.execute_input": "2024-07-11T06:06:24.542448Z",
     "iopub.status.busy": "2024-07-11T06:06:24.542040Z",
     "iopub.status.idle": "2024-07-11T06:06:24.548713Z",
     "shell.execute_reply": "2024-07-11T06:06:24.547323Z"
    },
    "papermill": {
     "duration": 0.019148,
     "end_time": "2024-07-11T06:06:24.551601",
     "exception": false,
     "start_time": "2024-07-11T06:06:24.532453",
     "status": "completed"
    },
    "tags": []
   },
   "outputs": [
    {
     "name": "stdout",
     "output_type": "stream",
     "text": [
      "{'w': array([[ 1.08128879e-03],\n",
      "       [ 3.64009038e-03],\n",
      "       [-1.30807664e-02],\n",
      "       ...,\n",
      "       [-1.14858032e-02],\n",
      "       [ 7.28610309e-03],\n",
      "       [ 4.12159367e-05]]), 'b': -0.012230548218075208}\n"
     ]
    }
   ],
   "source": [
    "params = optimize(w, b, gradients, 0.01)\n",
    "print(params)"
   ]
  },
  {
   "cell_type": "code",
   "execution_count": 19,
   "id": "3ab67d7d",
   "metadata": {
    "_kg_hide-output": true,
    "execution": {
     "iopub.execute_input": "2024-07-11T06:06:24.570512Z",
     "iopub.status.busy": "2024-07-11T06:06:24.570121Z",
     "iopub.status.idle": "2024-07-11T06:06:24.576667Z",
     "shell.execute_reply": "2024-07-11T06:06:24.575544Z"
    },
    "papermill": {
     "duration": 0.018656,
     "end_time": "2024-07-11T06:06:24.578932",
     "exception": false,
     "start_time": "2024-07-11T06:06:24.560276",
     "status": "completed"
    },
    "tags": []
   },
   "outputs": [],
   "source": [
    "def train(no_of_features, w, b, X, Y, learning_rate, no_of_iterations):\n",
    "    \n",
    "    w, b = initialize_params(no_of_features)\n",
    "    costs = []\n",
    "    \n",
    "    for i in range(no_of_iterations):\n",
    "        predictions, gradients = propagate(w, b, train_set_x, train_set_y)\n",
    "        costs.append(calculate_cost(predictions, Y))\n",
    "        params = optimize(w, b, gradients, learning_rate)\n",
    "        w = params[\"w\"]\n",
    "        b = params[\"b\"]\n",
    "    \n",
    "    return params, gradients, costs\n",
    "    \n",
    "    "
   ]
  },
  {
   "cell_type": "code",
   "execution_count": 20,
   "id": "ba55d9b1",
   "metadata": {
    "execution": {
     "iopub.execute_input": "2024-07-11T06:06:24.597581Z",
     "iopub.status.busy": "2024-07-11T06:06:24.597224Z",
     "iopub.status.idle": "2024-07-11T06:06:24.601993Z",
     "shell.execute_reply": "2024-07-11T06:06:24.600930Z"
    },
    "papermill": {
     "duration": 0.016826,
     "end_time": "2024-07-11T06:06:24.604306",
     "exception": false,
     "start_time": "2024-07-11T06:06:24.587480",
     "status": "completed"
    },
    "tags": []
   },
   "outputs": [],
   "source": [
    "# params, gradients, costs = train(nx, w, b, train_set_x, train_set_y, 0.01, 10000)\n",
    "# print(params)\n",
    "# print(costs[-1])"
   ]
  },
  {
   "cell_type": "code",
   "execution_count": 21,
   "id": "aa2cc084",
   "metadata": {
    "execution": {
     "iopub.execute_input": "2024-07-11T06:06:24.624008Z",
     "iopub.status.busy": "2024-07-11T06:06:24.622831Z",
     "iopub.status.idle": "2024-07-11T06:06:24.629069Z",
     "shell.execute_reply": "2024-07-11T06:06:24.628000Z"
    },
    "papermill": {
     "duration": 0.018775,
     "end_time": "2024-07-11T06:06:24.631465",
     "exception": false,
     "start_time": "2024-07-11T06:06:24.612690",
     "status": "completed"
    },
    "tags": []
   },
   "outputs": [],
   "source": [
    "def predict(w, b, X):\n",
    "    Z = np.dot(w.T, X) + b\n",
    "    A = sigmoid(Z)\n",
    "    predictions = (A>0.5).astype(int)\n",
    "    return predictions\n",
    "    "
   ]
  },
  {
   "cell_type": "code",
   "execution_count": 22,
   "id": "400b6ced",
   "metadata": {
    "execution": {
     "iopub.execute_input": "2024-07-11T06:06:24.650542Z",
     "iopub.status.busy": "2024-07-11T06:06:24.650178Z",
     "iopub.status.idle": "2024-07-11T06:06:24.657872Z",
     "shell.execute_reply": "2024-07-11T06:06:24.656669Z"
    },
    "papermill": {
     "duration": 0.022756,
     "end_time": "2024-07-11T06:06:24.662559",
     "exception": false,
     "start_time": "2024-07-11T06:06:24.639803",
     "status": "completed"
    },
    "tags": []
   },
   "outputs": [
    {
     "name": "stdout",
     "output_type": "stream",
     "text": [
      "[[0 0 0 0 0 0 0 0 0 0 0 0 0 0 0 0 0 0 0 0 0 0 0 0 0 0 0 0 0 0 0 0 0 0 0 0\n",
      "  0 0 0 0 0 0 0 0 0 0 0 0 0 0]]\n"
     ]
    }
   ],
   "source": [
    "predictions = predict(params[\"w\"], params[\"b\"], test_set_x)\n",
    "print(predictions)"
   ]
  },
  {
   "cell_type": "code",
   "execution_count": 23,
   "id": "d5d5a617",
   "metadata": {
    "execution": {
     "iopub.execute_input": "2024-07-11T06:06:24.693577Z",
     "iopub.status.busy": "2024-07-11T06:06:24.692977Z",
     "iopub.status.idle": "2024-07-11T06:06:24.700200Z",
     "shell.execute_reply": "2024-07-11T06:06:24.699019Z"
    },
    "papermill": {
     "duration": 0.026534,
     "end_time": "2024-07-11T06:06:24.703274",
     "exception": false,
     "start_time": "2024-07-11T06:06:24.676740",
     "status": "completed"
    },
    "tags": []
   },
   "outputs": [],
   "source": [
    "def calculate_accuracy(predictions, Y):\n",
    "    correct_predictions = np.sum(predictions == Y)\n",
    "    total_predictions = Y.shape[1]\n",
    "    accuracy = (correct_predictions/total_predictions)*100\n",
    "    return accuracy \n",
    "    "
   ]
  },
  {
   "cell_type": "code",
   "execution_count": 24,
   "id": "25eb19ee",
   "metadata": {
    "execution": {
     "iopub.execute_input": "2024-07-11T06:06:24.735640Z",
     "iopub.status.busy": "2024-07-11T06:06:24.735079Z",
     "iopub.status.idle": "2024-07-11T06:06:24.742270Z",
     "shell.execute_reply": "2024-07-11T06:06:24.741020Z"
    },
    "papermill": {
     "duration": 0.029793,
     "end_time": "2024-07-11T06:06:24.748148",
     "exception": false,
     "start_time": "2024-07-11T06:06:24.718355",
     "status": "completed"
    },
    "tags": []
   },
   "outputs": [
    {
     "name": "stdout",
     "output_type": "stream",
     "text": [
      "34.0\n"
     ]
    }
   ],
   "source": [
    "print(calculate_accuracy(predictions, test_set_y))"
   ]
  },
  {
   "cell_type": "code",
   "execution_count": 25,
   "id": "6a003dbd",
   "metadata": {
    "execution": {
     "iopub.execute_input": "2024-07-11T06:06:24.779715Z",
     "iopub.status.busy": "2024-07-11T06:06:24.779321Z",
     "iopub.status.idle": "2024-07-11T06:06:24.785986Z",
     "shell.execute_reply": "2024-07-11T06:06:24.784882Z"
    },
    "papermill": {
     "duration": 0.022274,
     "end_time": "2024-07-11T06:06:24.788248",
     "exception": false,
     "start_time": "2024-07-11T06:06:24.765974",
     "status": "completed"
    },
    "tags": []
   },
   "outputs": [],
   "source": [
    "def logistic_regression(train_set_x, train_set_y, test_set_x, test_set_y, learning_rate, no_of_iterations):\n",
    "    \n",
    "    nx = train_set_x.shape[0]\n",
    "    \n",
    "    # Initialize the parameters\n",
    "    w, b = initialize_params(nx)\n",
    "    \n",
    "    # Training of the model\n",
    "    params, gradients, costs = train(nx, w, b, train_set_x, train_set_y, 0.01, 10000)\n",
    "    \n",
    "    # Evaluation of the model\n",
    "    predictions = predict(params[\"w\"], params[\"b\"], test_set_x)\n",
    "    accuracy = calculate_accuracy(predictions, test_set_y)\n",
    "    \n",
    "    return params, predictions, costs, accuracy"
   ]
  },
  {
   "cell_type": "code",
   "execution_count": 26,
   "id": "0ca1d776",
   "metadata": {
    "execution": {
     "iopub.execute_input": "2024-07-11T06:06:24.807869Z",
     "iopub.status.busy": "2024-07-11T06:06:24.807505Z",
     "iopub.status.idle": "2024-07-11T06:06:41.199979Z",
     "shell.execute_reply": "2024-07-11T06:06:41.198805Z"
    },
    "papermill": {
     "duration": 16.406178,
     "end_time": "2024-07-11T06:06:41.203667",
     "exception": false,
     "start_time": "2024-07-11T06:06:24.797489",
     "status": "completed"
    },
    "tags": []
   },
   "outputs": [],
   "source": [
    "params, predictions, costs, accuracy = logistic_regression(train_set_x, train_set_y, test_set_x, test_set_y,0.01, 10000)"
   ]
  },
  {
   "cell_type": "code",
   "execution_count": 27,
   "id": "d3e539d3",
   "metadata": {
    "execution": {
     "iopub.execute_input": "2024-07-11T06:06:41.236214Z",
     "iopub.status.busy": "2024-07-11T06:06:41.235608Z",
     "iopub.status.idle": "2024-07-11T06:06:41.247211Z",
     "shell.execute_reply": "2024-07-11T06:06:41.245682Z"
    },
    "papermill": {
     "duration": 0.032641,
     "end_time": "2024-07-11T06:06:41.251938",
     "exception": false,
     "start_time": "2024-07-11T06:06:41.219297",
     "status": "completed"
    },
    "tags": []
   },
   "outputs": [
    {
     "name": "stdout",
     "output_type": "stream",
     "text": [
      "72.0 %\n"
     ]
    }
   ],
   "source": [
    "print(accuracy, \"%\")"
   ]
  }
 ],
 "metadata": {
  "kaggle": {
   "accelerator": "none",
   "dataSources": [
    {
     "datasetId": 728790,
     "sourceId": 1265556,
     "sourceType": "datasetVersion"
    }
   ],
   "dockerImageVersionId": 30732,
   "isGpuEnabled": false,
   "isInternetEnabled": true,
   "language": "python",
   "sourceType": "notebook"
  },
  "kernelspec": {
   "display_name": "Python 3",
   "language": "python",
   "name": "python3"
  },
  "language_info": {
   "codemirror_mode": {
    "name": "ipython",
    "version": 3
   },
   "file_extension": ".py",
   "mimetype": "text/x-python",
   "name": "python",
   "nbconvert_exporter": "python",
   "pygments_lexer": "ipython3",
   "version": "3.10.13"
  },
  "papermill": {
   "default_parameters": {},
   "duration": 21.351341,
   "end_time": "2024-07-11T06:06:41.703305",
   "environment_variables": {},
   "exception": null,
   "input_path": "__notebook__.ipynb",
   "output_path": "__notebook__.ipynb",
   "parameters": {},
   "start_time": "2024-07-11T06:06:20.351964",
   "version": "2.5.0"
  }
 },
 "nbformat": 4,
 "nbformat_minor": 5
}

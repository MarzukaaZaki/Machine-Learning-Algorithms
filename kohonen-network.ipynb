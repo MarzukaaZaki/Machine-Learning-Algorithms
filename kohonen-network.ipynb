{
 "cells": [
  {
   "cell_type": "code",
   "execution_count": 176,
   "metadata": {},
   "outputs": [],
   "source": [
    "#Self organizing map clustering algorithm\n",
    "import numpy as np\n",
    "from scipy.spatial import distance\n",
    "import matplotlib.pyplot as plt"
   ]
  },
  {
   "cell_type": "code",
   "execution_count": 177,
   "metadata": {},
   "outputs": [],
   "source": [
    "np.set_printoptions(suppress=True) \n"
   ]
  },
  {
   "cell_type": "code",
   "execution_count": 178,
   "metadata": {},
   "outputs": [
    {
     "name": "stdout",
     "output_type": "stream",
     "text": [
      "[[  6.    148.     72.    ...  33.6     0.627  50.   ]\n",
      " [  1.     85.     66.    ...  26.6     0.351  31.   ]\n",
      " [  8.    183.     64.    ...  23.3     0.672  32.   ]\n",
      " ...\n",
      " [  5.    121.     72.    ...  26.2     0.245  30.   ]\n",
      " [  1.    126.     60.    ...  30.1     0.349  47.   ]\n",
      " [  1.     93.     70.    ...  30.4     0.315  23.   ]]\n"
     ]
    }
   ],
   "source": [
    "# Datasets\n",
    "\n",
    "# Load the CSV file as a numpy array\n",
    "dataset = np.loadtxt(\"pima_indians.csv\", delimiter=\",\")\n",
    "\n",
    "X = dataset[:, :-1]\n",
    "y = dataset[:, -1]\n",
    "\n",
    "# Print the array\n",
    "print(X)"
   ]
  },
  {
   "cell_type": "code",
   "execution_count": 179,
   "metadata": {},
   "outputs": [],
   "source": [
    "k = 2\n",
    "p = 0\n",
    "alpha = 0.7 # Initial learning rate"
   ]
  },
  {
   "cell_type": "code",
   "execution_count": 180,
   "metadata": {},
   "outputs": [
    {
     "name": "stdout",
     "output_type": "stream",
     "text": [
      "The training data: \n",
      " [[  6.    148.     72.    ...  33.6     0.627  50.   ]\n",
      " [  1.     85.     66.    ...  26.6     0.351  31.   ]\n",
      " [  8.    183.     64.    ...  23.3     0.672  32.   ]\n",
      " ...\n",
      " [  5.    121.     72.    ...  26.2     0.245  30.   ]\n",
      " [  1.    126.     60.    ...  30.1     0.349  47.   ]\n",
      " [  1.     93.     70.    ...  30.4     0.315  23.   ]]\n",
      "\n",
      "Total number of data:  768\n",
      "Total number of features:  8\n",
      "Total number of Clusters:  2\n"
     ]
    }
   ],
   "source": [
    "# Print the number of data and dimension \n",
    "n = len(X)\n",
    "d = len(X[0])\n",
    "# addZeros = np.zeros((n, 1))\n",
    "\n",
    "# X = np.append(X, addZeros, axis=1) \n",
    "print(\"The training data: \\n\", X)\n",
    "print(\"\\nTotal number of data: \",n)\n",
    "print(\"Total number of features: \",d)\n",
    "print(\"Total number of Clusters: \",k)\n",
    "\n",
    "C = np.zeros((k,d+1))\n"
   ]
  },
  {
   "cell_type": "code",
   "execution_count": 181,
   "metadata": {},
   "outputs": [
    {
     "name": "stdout",
     "output_type": "stream",
     "text": [
      "\n",
      "The initial weight: \n",
      " [[0.18 0.81]\n",
      " [0.54 0.59]\n",
      " [0.46 0.42]\n",
      " [0.53 0.04]\n",
      " [0.3  0.16]\n",
      " [0.06 0.11]\n",
      " [0.5  0.89]\n",
      " [0.52 0.22]]\n",
      "(8, 2)\n",
      "(768, 8)\n"
     ]
    }
   ],
   "source": [
    "# Initialize weights\n",
    "weight = np.random.rand(d,k)\n",
    "print(\"\\nThe initial weight: \\n\", np.round(weight,2))\n",
    "print(weight.shape)\n",
    "print(X.shape)"
   ]
  },
  {
   "cell_type": "code",
   "execution_count": 182,
   "metadata": {},
   "outputs": [],
   "source": [
    "num_iter = 100\n",
    "cluster_no = np.array([])\n",
    "for it in range(num_iter): # Total number of iterations\n",
    "    for i in range(n):\n",
    "        distMin = 99999999\n",
    "        for j in range(k):\n",
    "            dist = np.square(distance.euclidean(weight[:,j], X[i,0:d]))\n",
    "            \n",
    "            # Find the weight for which minimum distance is obtained\n",
    "            if distMin>dist:\n",
    "                distMin = dist\n",
    "                jMin = j\n",
    "\n",
    "        # Collect the cluster number from the final iteration\n",
    "        if it==num_iter-1:\n",
    "                cluster_no = np.append(cluster_no, jMin)\n",
    "\n",
    "        # Adapt that weight        \n",
    "        weight[:,jMin] = weight[:,jMin]*(1-alpha) + alpha*X[i,0:d] \n",
    "    \n",
    "\n",
    "    # Update learning rate  \n",
    "    alpha = 0.5*alpha\n",
    "    "
   ]
  },
  {
   "cell_type": "code",
   "execution_count": 183,
   "metadata": {},
   "outputs": [
    {
     "name": "stdout",
     "output_type": "stream",
     "text": [
      "\n",
      "The final weight: \n",
      " [[  3.8905   3.6304]\n",
      " [114.9498 140.6055]\n",
      " [ 68.1894  72.6002]\n",
      " [ 17.3695  31.1479]\n",
      " [ 29.9658 241.0899]\n",
      " [ 31.1676  34.8501]\n",
      " [  0.4375   0.5688]\n",
      " [ 33.2799  33.2023]]\n"
     ]
    }
   ],
   "source": [
    "print(\"\\nThe final weight: \\n\",np.round(weight,4))"
   ]
  },
  {
   "cell_type": "code",
   "execution_count": 184,
   "metadata": {},
   "outputs": [
    {
     "name": "stdout",
     "output_type": "stream",
     "text": [
      "(768,)\n"
     ]
    }
   ],
   "source": [
    "print(cluster_no.shape)"
   ]
  },
  {
   "cell_type": "code",
   "execution_count": 185,
   "metadata": {},
   "outputs": [
    {
     "name": "stdout",
     "output_type": "stream",
     "text": [
      "[[  6.    148.     72.    ...   0.627  50.      0.   ]\n",
      " [  1.     85.     66.    ...   0.351  31.      0.   ]\n",
      " [  8.    183.     64.    ...   0.672  32.      0.   ]\n",
      " ...\n",
      " [  5.    121.     72.    ...   0.245  30.      0.   ]\n",
      " [  1.    126.     60.    ...   0.349  47.      0.   ]\n",
      " [  1.     93.     70.    ...   0.315  23.      0.   ]]\n"
     ]
    }
   ],
   "source": [
    "clustered_data = np.append(X, np.expand_dims(cluster_no, axis=1), axis=1)\n",
    "print(clustered_data)\n"
   ]
  },
  {
   "cell_type": "code",
   "execution_count": 186,
   "metadata": {},
   "outputs": [],
   "source": [
    "clusters = clustered_data[:, -1]"
   ]
  },
  {
   "cell_type": "code",
   "execution_count": 187,
   "metadata": {},
   "outputs": [
    {
     "name": "stdout",
     "output_type": "stream",
     "text": [
      "Accuracy: 65.625 %\n"
     ]
    }
   ],
   "source": [
    "correct = 0\n",
    "wrong = 0\n",
    "for i in range(len(y)):\n",
    "    if clusters[i] == y[i]:\n",
    "        correct+=1\n",
    "    else:\n",
    "        wrong+=1\n",
    "\n",
    "accuracy = (correct/(correct+wrong))*100\n",
    "print(\"Accuracy:\", accuracy, \"%\")\n"
   ]
  },
  {
   "cell_type": "code",
   "execution_count": null,
   "metadata": {},
   "outputs": [],
   "source": []
  },
  {
   "cell_type": "code",
   "execution_count": null,
   "metadata": {},
   "outputs": [],
   "source": []
  },
  {
   "cell_type": "code",
   "execution_count": null,
   "metadata": {},
   "outputs": [],
   "source": []
  }
 ],
 "metadata": {
  "kernelspec": {
   "display_name": "Python 3",
   "language": "python",
   "name": "python3"
  },
  "language_info": {
   "codemirror_mode": {
    "name": "ipython",
    "version": 3
   },
   "file_extension": ".py",
   "mimetype": "text/x-python",
   "name": "python",
   "nbconvert_exporter": "python",
   "pygments_lexer": "ipython3",
   "version": "3.10.4"
  },
  "orig_nbformat": 4
 },
 "nbformat": 4,
 "nbformat_minor": 2
}

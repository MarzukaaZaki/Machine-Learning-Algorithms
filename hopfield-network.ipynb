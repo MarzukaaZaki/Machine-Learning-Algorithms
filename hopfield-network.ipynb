{
 "cells": [
  {
   "cell_type": "code",
   "execution_count": 33,
   "metadata": {},
   "outputs": [
    {
     "name": "stdout",
     "output_type": "stream",
     "text": [
      "[ 1.  1.  1. -1. -1.  1. -1. -1.  1.  1.]\n",
      "[-1. -1.  1.  1. -1.  1.  1. -1. -1. -1.]\n",
      "[-1. -1. -1.  1.  1. -1.  1.  1. -1. -1.]\n",
      "[-1. -1. -1.  1.  1. -1.  1.  1. -1. -1.]\n",
      "[-1. -1. -1.  1.  1. -1.  1.  1. -1. -1.]\n",
      "[-1. -1. -1.  1.  1. -1.  1.  1. -1. -1.]\n",
      "[ 1.  1.  1. -1. -1.  1. -1. -1.  1.  1.]\n",
      "[-1. -1. -1.  1.  1. -1.  1.  1. -1. -1.]\n",
      "[-1. -1. -1.  1.  1. -1.  1.  1. -1. -1.]\n",
      "[ 1.  1.  1. -1. -1.  1. -1. -1.  1.  1.]\n",
      "[-1. -1. -1.  1.  1. -1.  1.  1. -1. -1.]\n",
      "[-1. -1. -1.  1.  1. -1.  1.  1. -1. -1.]\n",
      "[ 1.  1.  1. -1. -1.  1. -1. -1.  1.  1.]\n",
      "[ 1. -1.  1. -1. -1.  1. -1.  1.  1. -1.]\n",
      "[-1. -1. -1.  1.  1. -1.  1.  1. -1. -1.]\n",
      "[-1. -1. -1.  1.  1. -1.  1.  1. -1. -1.]\n",
      "[ 1.  1.  1. -1.  1.  1. -1. -1.  1.  1.]\n",
      "[-1. -1.  1.  1. -1.  1.  1.  1. -1.  1.]\n",
      "[-1. -1. -1.  1.  1. -1.  1.  1. -1. -1.]\n",
      "[ 1.  1.  1. -1. -1.  1. -1. -1.  1.  1.]\n"
     ]
    }
   ],
   "source": [
    "import numpy as np\n"
   ]
  },
  {
   "cell_type": "code",
   "execution_count": null,
   "metadata": {},
   "outputs": [],
   "source": [
    "# Training phase\n",
    "def hopfield_network_train(patterns):\n",
    "    # Set input shape\n",
    "    num_neurons = patterns.shape[1]\n",
    "\n",
    "    # Set weight matrix shape\n",
    "    # Initialize weight matrix with zeros\n",
    "    weights = np.zeros((num_neurons, num_neurons))\n",
    "    for pattern in patterns:\n",
    "        pattern = pattern.reshape((num_neurons, 1))\n",
    "\n",
    "        # Compute dot product to find the weights\n",
    "        weights += np.dot(pattern, pattern.T)\n",
    "    \n",
    "    # Set the diagonal elements to zero to avoid self connections\n",
    "    np.fill_diagonal(weights, 0)\n",
    "    return weights\n",
    "\n"
   ]
  },
  {
   "cell_type": "code",
   "execution_count": null,
   "metadata": {},
   "outputs": [],
   "source": [
    "# Testing Phase\n",
    "def hopfield_network_recall(patterns, weights, num_iterations=5):\n",
    "    # Set the recall pattern shape\n",
    "    num_neurons = patterns.shape[1]\n",
    "    recalled_patterns = []\n",
    "\n",
    "    # For each pattern\n",
    "    for pattern in patterns:\n",
    "        pattern = pattern.reshape((num_neurons, 1))\n",
    "        # For a fixed number of iterations\n",
    "        for _ in range(num_iterations):\n",
    "            # Update neuron states \n",
    "            recalled_pattern = np.sign(np.dot(weights, pattern))\n",
    "            pattern = recalled_pattern\n",
    "        recalled_patterns.append(recalled_pattern)\n",
    "    return np.array(recalled_patterns)\n",
    "\n",
    "# Define your patterns as numpy arrays\n",
    "train_patterns = np.array([\n",
    "    [1, 1, -1, -1, 1, 1, -1, -1, 1, 1],\n",
    "    [-1, 1, 1, -1, -1, 1, -1, -1, 1, 1],\n",
    "    [-1, -1, 1, 1, -1, 1, 1, -1, 1, 1],\n",
    "    [1, -1, -1, 1, -1, -1, 1, 1, -1, -1],\n",
    "    [1, 1, -1, -1, 1, -1, -1, 1, -1, -1],\n",
    "    [-1, -1, 1, 1, -1, -1, 1, 1, -1, -1],\n",
    "    [1, -1, 1, -1, -1, 1, -1, 1, 1, -1],\n",
    "    [-1, 1, -1, 1, 1, -1, 1, -1, -1, 1],\n",
    "    [-1, -1, -1, 1, 1, -1, 1, 1, -1, -1],\n",
    "    [1, 1, 1, -1, -1, 1, 1, -1, 1, 1]\n",
    "])\n",
    "\n",
    "# Train the Hopfield network\n",
    "weights = hopfield_network_train(train_patterns)\n",
    "\n",
    "# Test the network by recalling the patterns\n",
    "test_patterns = np.array([\n",
    "    [-1, -1, -1, -1, 1, 1, -1, -1, 1, 1],\n",
    "    [-1, 1, 1, 1, -1, -1, 1, 1, 1, 1],\n",
    "    [-1, -1, -1, 1, 1, -1, 1, -1, -1, -1],\n",
    "    [-1, -1, -1, 1, 1, 1, -1, 1, -1, -1],\n",
    "    [-1, 1, -1, -1, 1, -1, -1, -1, -1, -1],\n",
    "    [-1, -1, 1, 1, -1, -1, 1, -1, -1, -1],\n",
    "    [-1, -1, 1, -1, -1, 1, -1, 1, 1, -1],\n",
    "    [-1, -1, -1, 1, 1, -1, 1, -1, -1, 1],\n",
    "    [-1, -1, -1, 1, -1, -1, 1, 1, -1, -1],\n",
    "    [1, -1, 1, -1, -1, 1, 1, -1, 1, 1],\n",
    "    [1, -1, -1, 1, 1, 1, -1, -1, -1, 1],\n",
    "    [-1, -1, 1, 1, 1, -1, 1, -1, 1, -1],\n",
    "    [-1, -1, -1, -1, 1, 1, -1, 1, 1, 1],\n",
    "    [1, -1, 1, -1, -1, 1, -1, 1, 1, -1],\n",
    "    [1, 1, 1, -1, 1, -1, -1, 1, -1, -1],\n",
    "    [-1, 1, -1, 1, 1, 1, -1, 1, -1, -1],\n",
    "    [1, -1, -1, -1, -1, 1, 1, 1, -1, 1],\n",
    "    [-1, 1, 1, 1, -1, -1, 1, -1, 1, -1],\n",
    "    [1, -1, 1, 1, -1, -1, 1, 1, -1, -1],\n",
    "    [1, 1, -1, -1, -1, -1, 1, 1, 1, 1]\n",
    "])\n",
    "recalled_patterns = hopfield_network_recall(test_patterns, weights)\n"
   ]
  },
  {
   "cell_type": "code",
   "execution_count": null,
   "metadata": {},
   "outputs": [],
   "source": [
    "# Print the recalled patterns\n",
    "for pattern in recalled_patterns:\n",
    "    print(pattern.flatten())"
   ]
  },
  {
   "cell_type": "code",
   "execution_count": 34,
   "metadata": {},
   "outputs": [],
   "source": [
    "def calculate_hamming_distance(pattern1, pattern2):\n",
    "    # Compute the element-wise XOR of the two patterns\n",
    "    xor_result = np.logical_xor(pattern1, pattern2)\n",
    "    # Count the number of True values (bit mismatches)\n",
    "    hamming_distance = np.sum(xor_result)\n",
    "    return hamming_distance"
   ]
  },
  {
   "cell_type": "code",
   "execution_count": 35,
   "metadata": {},
   "outputs": [
    {
     "name": "stdout",
     "output_type": "stream",
     "text": [
      "Pattern Recall Accuracy: 100.00%\n"
     ]
    }
   ],
   "source": [
    "# Evaluate pattern recall accuracy\n",
    "num_patterns = len(test_patterns)\n",
    "total_hamming_distance = 0\n",
    "\n",
    "for i in range(num_patterns):\n",
    "    original_pattern = test_patterns[i]\n",
    "    recalled_pattern = recalled_patterns[i]\n",
    "    hamming_distance = calculate_hamming_distance(original_pattern, recalled_pattern)\n",
    "    total_hamming_distance += hamming_distance\n",
    "\n",
    "# Calculate pattern recall accuracy as the percentage of correct bits\n",
    "num_total_bits = num_patterns * len(test_patterns[0])\n",
    "accuracy = (num_total_bits - total_hamming_distance) / num_total_bits * 100\n",
    "\n",
    "print(\"Pattern Recall Accuracy: {:.2f}%\".format(accuracy))\n"
   ]
  },
  {
   "cell_type": "code",
   "execution_count": null,
   "metadata": {},
   "outputs": [],
   "source": []
  },
  {
   "cell_type": "code",
   "execution_count": null,
   "metadata": {},
   "outputs": [],
   "source": []
  }
 ],
 "metadata": {
  "kernelspec": {
   "display_name": "Python 3",
   "language": "python",
   "name": "python3"
  },
  "language_info": {
   "codemirror_mode": {
    "name": "ipython",
    "version": 3
   },
   "file_extension": ".py",
   "mimetype": "text/x-python",
   "name": "python",
   "nbconvert_exporter": "python",
   "pygments_lexer": "ipython3",
   "version": "3.10.4"
  },
  "orig_nbformat": 4
 },
 "nbformat": 4,
 "nbformat_minor": 2
}

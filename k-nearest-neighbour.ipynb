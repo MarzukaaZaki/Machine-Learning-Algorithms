{
 "cells": [
  {
   "cell_type": "code",
   "execution_count": 1,
   "metadata": {},
   "outputs": [],
   "source": [
    "import csv\n",
    "import math\n",
    "import random\n",
    "import statistics\n",
    "from sklearn.neighbors import KNeighborsClassifier\n",
    "from sklearn.datasets import load_iris\n",
    "from sklearn.model_selection import train_test_split\n",
    "from sklearn.metrics import accuracy_score"
   ]
  },
  {
   "attachments": {},
   "cell_type": "markdown",
   "metadata": {},
   "source": [
    "Load dataset"
   ]
  },
  {
   "cell_type": "code",
   "execution_count": 2,
   "metadata": {},
   "outputs": [],
   "source": [
    "# Convert data from csv file to 2d list\n",
    "with open('haberman.csv', 'r') as file:\n",
    "    reader = csv.reader(file)\n",
    "    data = []\n",
    "    for row in reader:\n",
    "        int_row = [float(x) for x in row]  # convert elements to integers\n",
    "        data.append(int_row)\n",
    "\n",
    "# print(data)\n",
    "\n",
    "# unique labels\n",
    "unique_labels = list(set([row[-1] for row in data]))\n",
    "\n",
    "for i in data:\n",
    "    if i[-1] == unique_labels[0]:\n",
    "        i[-1] = 0\n",
    "    else:\n",
    "        i[-1] = 1\n",
    "\n",
    "# data\n",
    "\n"
   ]
  },
  {
   "attachments": {},
   "cell_type": "markdown",
   "metadata": {},
   "source": [
    "Split dataset into training and testing sets"
   ]
  },
  {
   "cell_type": "code",
   "execution_count": 3,
   "metadata": {},
   "outputs": [
    {
     "name": "stdout",
     "output_type": "stream",
     "text": [
      "[[38.0, 59.0, 2.0, 0], [39.0, 63.0, 4.0, 0], [56.0, 60.0, 0.0, 0], [44.0, 64.0, 6.0, 1], [70.0, 67.0, 0.0, 0], [57.0, 69.0, 0.0, 0], [49.0, 67.0, 1.0, 0], [58.0, 61.0, 2.0, 0], [63.0, 62.0, 0.0, 0], [38.0, 67.0, 5.0, 0], [53.0, 65.0, 1.0, 1], [38.0, 64.0, 1.0, 0], [56.0, 66.0, 2.0, 0], [53.0, 59.0, 3.0, 1], [52.0, 66.0, 4.0, 1], [55.0, 66.0, 0.0, 0], [55.0, 66.0, 18.0, 0], [48.0, 61.0, 8.0, 0], [63.0, 63.0, 0.0, 0], [54.0, 67.0, 46.0, 0], [42.0, 58.0, 0.0, 0], [53.0, 58.0, 4.0, 1], [40.0, 58.0, 2.0, 0], [30.0, 64.0, 1.0, 0], [50.0, 64.0, 0.0, 0], [53.0, 58.0, 1.0, 0], [72.0, 64.0, 0.0, 0], [55.0, 68.0, 15.0, 1], [61.0, 68.0, 1.0, 1], [47.0, 67.0, 0.0, 0], [42.0, 69.0, 1.0, 1], [75.0, 62.0, 1.0, 0], [65.0, 59.0, 2.0, 0], [35.0, 64.0, 13.0, 0], [54.0, 58.0, 1.0, 0], [51.0, 59.0, 1.0, 0], [53.0, 61.0, 1.0, 0], [43.0, 58.0, 52.0, 1], [55.0, 67.0, 1.0, 0], [56.0, 67.0, 0.0, 0], [56.0, 66.0, 3.0, 1], [74.0, 65.0, 3.0, 1], [58.0, 59.0, 0.0, 0], [36.0, 60.0, 1.0, 0], [36.0, 69.0, 0.0, 0], [53.0, 65.0, 12.0, 1], [69.0, 65.0, 0.0, 0], [56.0, 65.0, 9.0, 1], [56.0, 60.0, 0.0, 0], [48.0, 58.0, 11.0, 1], [61.0, 59.0, 0.0, 0], [62.0, 59.0, 13.0, 1], [31.0, 65.0, 4.0, 0], [73.0, 68.0, 0.0, 0], [39.0, 63.0, 0.0, 0], [54.0, 66.0, 0.0, 0], [52.0, 68.0, 0.0, 0], [47.0, 60.0, 4.0, 0], [41.0, 67.0, 0.0, 1], [46.0, 58.0, 2.0, 1], [49.0, 61.0, 1.0, 0], [59.0, 63.0, 0.0, 0], [61.0, 59.0, 0.0, 0], [57.0, 67.0, 0.0, 0], [30.0, 65.0, 0.0, 0], [50.0, 64.0, 0.0, 1], [31.0, 59.0, 2.0, 0], [37.0, 63.0, 0.0, 0], [49.0, 60.0, 1.0, 0], [47.0, 58.0, 3.0, 0], [65.0, 64.0, 0.0, 0], [67.0, 66.0, 0.0, 0], [44.0, 61.0, 0.0, 0], [65.0, 66.0, 15.0, 1], [39.0, 67.0, 0.0, 0], [45.0, 59.0, 14.0, 0], [45.0, 66.0, 0.0, 1], [41.0, 58.0, 0.0, 0], [39.0, 59.0, 2.0, 0], [48.0, 67.0, 7.0, 1], [54.0, 62.0, 0.0, 0], [44.0, 67.0, 16.0, 0], [69.0, 60.0, 0.0, 0], [49.0, 63.0, 3.0, 0], [40.0, 58.0, 0.0, 0], [37.0, 63.0, 0.0, 0], [52.0, 65.0, 0.0, 0], [57.0, 62.0, 14.0, 1], [59.0, 64.0, 4.0, 0], [54.0, 60.0, 11.0, 1], [63.0, 61.0, 28.0, 0], [67.0, 61.0, 0.0, 0], [46.0, 69.0, 3.0, 1], [42.0, 63.0, 1.0, 0], [61.0, 59.0, 0.0, 0], [70.0, 68.0, 0.0, 0], [50.0, 65.0, 4.0, 0], [57.0, 61.0, 0.0, 0], [37.0, 58.0, 0.0, 0], [65.0, 67.0, 0.0, 0], [72.0, 67.0, 3.0, 0], [78.0, 65.0, 1.0, 1], [74.0, 63.0, 0.0, 0], [47.0, 62.0, 0.0, 1], [70.0, 66.0, 14.0, 0], [55.0, 58.0, 1.0, 0], [70.0, 59.0, 8.0, 0], [61.0, 68.0, 0.0, 0], [33.0, 60.0, 0.0, 0], [57.0, 64.0, 1.0, 1], [65.0, 67.0, 1.0, 0], [47.0, 65.0, 0.0, 1], [38.0, 60.0, 0.0, 0], [34.0, 59.0, 0.0, 1], [41.0, 65.0, 0.0, 0], [44.0, 63.0, 19.0, 1], [65.0, 62.0, 22.0, 1], [66.0, 61.0, 13.0, 1], [46.0, 58.0, 3.0, 0], [60.0, 64.0, 0.0, 0], [60.0, 61.0, 1.0, 0], [61.0, 65.0, 8.0, 0], [51.0, 59.0, 13.0, 1], [34.0, 60.0, 0.0, 0], [61.0, 64.0, 0.0, 0], [43.0, 63.0, 2.0, 0], [54.0, 68.0, 7.0, 1], [57.0, 63.0, 0.0, 0], [64.0, 65.0, 22.0, 0], [42.0, 59.0, 0.0, 1], [50.0, 61.0, 6.0, 0], [56.0, 66.0, 1.0, 0], [38.0, 60.0, 0.0, 0], [43.0, 64.0, 3.0, 0], [43.0, 63.0, 14.0, 0], [60.0, 61.0, 25.0, 0], [50.0, 66.0, 1.0, 0], [43.0, 64.0, 0.0, 1], [61.0, 62.0, 5.0, 1], [47.0, 66.0, 12.0, 0], [42.0, 60.0, 1.0, 0], [33.0, 58.0, 10.0, 0], [54.0, 69.0, 7.0, 0], [47.0, 68.0, 4.0, 0], [55.0, 69.0, 22.0, 0], [65.0, 58.0, 0.0, 0], [61.0, 65.0, 0.0, 1], [41.0, 59.0, 8.0, 0], [49.0, 62.0, 0.0, 0], [42.0, 65.0, 0.0, 0], [68.0, 67.0, 0.0, 0], [46.0, 62.0, 5.0, 1], [50.0, 59.0, 0.0, 0], [64.0, 58.0, 0.0, 0], [34.0, 67.0, 7.0, 0], [55.0, 69.0, 3.0, 0], [40.0, 65.0, 0.0, 0], [48.0, 62.0, 2.0, 0], [46.0, 63.0, 0.0, 0], [52.0, 69.0, 0.0, 0], [44.0, 63.0, 1.0, 0], [64.0, 66.0, 0.0, 0], [72.0, 63.0, 0.0, 1], [67.0, 65.0, 0.0, 0], [60.0, 59.0, 17.0, 1], [62.0, 66.0, 0.0, 0], [64.0, 61.0, 0.0, 0], [59.0, 64.0, 1.0, 0], [48.0, 64.0, 0.0, 0], [57.0, 64.0, 9.0, 0], [43.0, 64.0, 2.0, 0], [50.0, 63.0, 1.0, 0], [49.0, 63.0, 0.0, 1], [71.0, 68.0, 2.0, 0], [59.0, 67.0, 3.0, 0], [45.0, 65.0, 6.0, 1], [52.0, 69.0, 3.0, 1], [52.0, 62.0, 3.0, 1], [67.0, 66.0, 0.0, 0], [43.0, 66.0, 4.0, 0], [60.0, 67.0, 2.0, 0], [49.0, 61.0, 0.0, 0], [57.0, 64.0, 0.0, 0], [72.0, 58.0, 0.0, 0], [48.0, 66.0, 0.0, 0], [55.0, 63.0, 6.0, 1], [41.0, 64.0, 0.0, 0], [52.0, 62.0, 1.0, 0], [53.0, 60.0, 2.0, 0], [52.0, 59.0, 2.0, 1], [50.0, 58.0, 1.0, 0], [46.0, 62.0, 0.0, 0], [62.0, 58.0, 0.0, 0], [38.0, 69.0, 21.0, 1], [53.0, 60.0, 9.0, 1], [34.0, 60.0, 1.0, 0], [58.0, 58.0, 3.0, 0], [54.0, 62.0, 0.0, 0], [77.0, 65.0, 3.0, 0], [39.0, 66.0, 0.0, 1], [73.0, 62.0, 0.0, 0], [39.0, 58.0, 0.0, 0], [62.0, 66.0, 0.0, 0], [67.0, 64.0, 8.0, 1], [44.0, 61.0, 0.0, 0], [66.0, 58.0, 0.0, 1], [44.0, 58.0, 9.0, 1], [43.0, 64.0, 0.0, 1], [50.0, 63.0, 13.0, 1], [62.0, 62.0, 6.0, 0], [58.0, 67.0, 0.0, 0], [45.0, 64.0, 0.0, 0], [62.0, 58.0, 0.0, 1], [55.0, 58.0, 0.0, 0], [45.0, 67.0, 1.0, 0], [70.0, 63.0, 0.0, 0], [49.0, 66.0, 0.0, 0], [57.0, 61.0, 5.0, 1], [34.0, 58.0, 30.0, 0], [47.0, 63.0, 6.0, 0], [52.0, 60.0, 5.0, 0], [65.0, 61.0, 2.0, 1], [45.0, 67.0, 1.0, 1], [68.0, 68.0, 0.0, 0], [50.0, 61.0, 0.0, 0], [67.0, 63.0, 1.0, 1], [59.0, 64.0, 0.0, 0], [38.0, 66.0, 11.0, 0], [59.0, 60.0, 0.0, 0], [53.0, 63.0, 0.0, 0], [41.0, 65.0, 0.0, 0], [66.0, 58.0, 1.0, 0], [52.0, 64.0, 0.0, 0], [46.0, 65.0, 20.0, 1], [45.0, 68.0, 0.0, 0], [50.0, 61.0, 0.0, 0], [52.0, 61.0, 0.0, 0], [41.0, 60.0, 23.0, 1], [69.0, 66.0, 0.0, 0], [52.0, 63.0, 4.0, 0], [48.0, 58.0, 11.0, 1], [41.0, 69.0, 8.0, 0], [51.0, 66.0, 1.0, 0], [52.0, 62.0, 0.0, 0], [47.0, 63.0, 23.0, 1], [54.0, 63.0, 19.0, 0], [62.0, 65.0, 19.0, 1], [50.0, 59.0, 2.0, 0], [47.0, 61.0, 0.0, 0], [42.0, 62.0, 20.0, 0], [59.0, 64.0, 7.0, 0], [34.0, 61.0, 10.0, 0], [59.0, 62.0, 35.0, 1], [64.0, 68.0, 0.0, 0], [65.0, 58.0, 0.0, 1], [57.0, 62.0, 0.0, 0], [35.0, 63.0, 0.0, 0], [76.0, 67.0, 0.0, 0], [51.0, 64.0, 7.0, 0], [43.0, 59.0, 2.0, 1], [41.0, 64.0, 0.0, 1], [58.0, 61.0, 1.0, 0], [49.0, 62.0, 1.0, 0], [65.0, 64.0, 0.0, 0], [45.0, 67.0, 0.0, 0], [34.0, 66.0, 9.0, 1], [45.0, 60.0, 0.0, 0], [70.0, 58.0, 0.0, 1], [43.0, 65.0, 0.0, 0], [42.0, 61.0, 4.0, 0], [54.0, 59.0, 7.0, 0], [66.0, 68.0, 0.0, 0], [63.0, 61.0, 0.0, 0], [53.0, 60.0, 1.0, 0], [54.0, 65.0, 5.0, 1], [57.0, 64.0, 0.0, 0], [49.0, 64.0, 10.0, 1], [38.0, 66.0, 0.0, 0], [55.0, 58.0, 1.0, 0], [38.0, 60.0, 1.0, 0], [30.0, 62.0, 3.0, 0], [47.0, 66.0, 0.0, 0], [58.0, 58.0, 0.0, 0], [37.0, 60.0, 15.0, 0], [52.0, 60.0, 4.0, 0], [51.0, 65.0, 0.0, 0], [63.0, 61.0, 9.0, 0], [38.0, 62.0, 3.0, 0], [66.0, 58.0, 0.0, 0], [37.0, 59.0, 6.0, 0], [63.0, 63.0, 0.0, 0], [41.0, 59.0, 0.0, 0], [60.0, 65.0, 0.0, 1], [53.0, 63.0, 24.0, 1], [37.0, 60.0, 0.0, 0], [69.0, 67.0, 8.0, 1], [63.0, 66.0, 0.0, 0], [58.0, 60.0, 3.0, 0], [70.0, 58.0, 4.0, 1], [43.0, 60.0, 0.0, 0], [42.0, 59.0, 2.0, 0], [51.0, 59.0, 3.0, 1], [54.0, 60.0, 3.0, 0], [54.0, 65.0, 23.0, 1], [83.0, 58.0, 2.0, 1], [63.0, 60.0, 1.0, 1]]\n"
     ]
    }
   ],
   "source": [
    "# Shuffle the dataset\n",
    "random.shuffle(data)\n",
    "print(data)\n",
    "\n",
    "# Set the ratio of training data to testing data\n",
    "train_ratio = 0.8\n",
    "test_ratio = 0.2\n",
    "\n",
    "# Calculate the number of instances to use for training and testing\n",
    "num_train = int(len(data) * train_ratio)\n",
    "num_test = len(data) - num_train\n",
    "\n",
    "train_data = data[:num_train]\n",
    "test_data = data[num_train:]\n",
    "\n",
    "\n",
    "# print(train_data)"
   ]
  },
  {
   "cell_type": "code",
   "execution_count": 4,
   "metadata": {},
   "outputs": [],
   "source": [
    "def euclidean_distance(x1, x2):\n",
    "    # Calculate Euclidean distance between two data points\n",
    "    distance = 0.0\n",
    "    for i in range(len(x1)):\n",
    "        distance += (x1[i] - x2[i])**2\n",
    "    return math.sqrt(distance)"
   ]
  },
  {
   "cell_type": "code",
   "execution_count": 5,
   "metadata": {},
   "outputs": [],
   "source": [
    "def find_majority(labels):\n",
    "    compared_labels = [item[1] for item in labels]\n",
    "    majority_label = statistics.mode(compared_labels)\n",
    "    return majority_label\n",
    "\n",
    "# list_of_tuples = [('Apple', 1, True),('Banana', 4, False), ('Apple', 1, True), ('Apple', 1, True),('Banana', 4, False)]\n",
    "# find_majority(list_of_tuples)"
   ]
  },
  {
   "attachments": {},
   "cell_type": "markdown",
   "metadata": {},
   "source": [
    "KNN algorithm"
   ]
  },
  {
   "cell_type": "code",
   "execution_count": 6,
   "metadata": {},
   "outputs": [],
   "source": [
    "def predict_knn(train_data, test_data, k):\n",
    "    # Find k nearest neighbors for a given test data point\n",
    "    distances_with_labels = []\n",
    "    # print(test_data)\n",
    "\n",
    "    correct = 0\n",
    "    wrong = 0\n",
    "    \n",
    "    for i in test_data:\n",
    "        for j in train_data:\n",
    "            \n",
    "           # Calculate distance between each test instance and all training instances\n",
    "           # Using Euclidean distance formula\n",
    "            distance = euclidean_distance(i, j)\n",
    "            compared_label = j[-1]  \n",
    "\n",
    "            # Store distance, label of training data for each test data point\n",
    "            distances_with_labels.append((distance, compared_label))\n",
    "\n",
    "        # Sort based on distance. \n",
    "        sorted_distance_with_labels = sorted(distances_with_labels, key=lambda x: x[0])\n",
    "        \n",
    "        k_nearest = sorted_distance_with_labels[:k]\n",
    "        majority_label = find_majority(k_nearest)\n",
    "        if majority_label == i[-1]:\n",
    "            correct+=1\n",
    "        else:\n",
    "            wrong+=1\n",
    "    \n",
    "    return (correct*100)/(wrong+correct)\n",
    "        \n",
    "        \n",
    "\n",
    "        # for k in range(1, k_range):\n",
    "        #     k_nearest = sorted_distance_with_labels[:k]\n",
    "\n",
    "        \n",
    "\n",
    "# predict_knn(train_data, test_data,k=3)\n",
    "        "
   ]
  },
  {
   "cell_type": "code",
   "execution_count": 7,
   "metadata": {},
   "outputs": [],
   "source": [
    "def change_k(k_range):\n",
    "    accuracy = []\n",
    "    accuracy_and_k = []\n",
    "    for k in range(3, k_range, 1):\n",
    "        accuracy = predict_knn(train_data, test_data, k)\n",
    "        accuracy_and_k.append((accuracy, k))\n",
    "    \n",
    "    # find the tuple with the maximum value of the second element\n",
    "    max_accuracy = max(accuracy_and_k, key=lambda x: x[1])\n",
    "\n",
    "    return max_accuracy\n",
    "\n",
    "accuracy_without_distorted_patterns = change_k(30)\n",
    "\n",
    "\n",
    "\n",
    "\n",
    "\n",
    "\n",
    "\n"
   ]
  },
  {
   "attachments": {},
   "cell_type": "markdown",
   "metadata": {},
   "source": [
    "Built-in KNN Classifier"
   ]
  },
  {
   "cell_type": "code",
   "execution_count": 8,
   "metadata": {},
   "outputs": [],
   "source": [
    "# Separate features and labels\n",
    "features = [row[:len(row)-1] for row in data]\n",
    "labels = [row[-1] for row in data]"
   ]
  },
  {
   "cell_type": "code",
   "execution_count": 9,
   "metadata": {},
   "outputs": [
    {
     "name": "stderr",
     "output_type": "stream",
     "text": [
      "c:\\Python\\Python310\\lib\\site-packages\\sklearn\\neighbors\\_classification.py:237: FutureWarning: Unlike other reduction functions (e.g. `skew`, `kurtosis`), the default behavior of `mode` typically preserves the axis it acts along. In SciPy 1.11.0, this behavior will change: the default value of `keepdims` will become False, the `axis` over which the statistic is taken will be eliminated, and the value None will no longer be accepted. Set `keepdims` to True or False to avoid this warning.\n",
      "  mode, _ = stats.mode(_y[neigh_ind, k], axis=1)\n",
      "c:\\Python\\Python310\\lib\\site-packages\\sklearn\\neighbors\\_classification.py:237: FutureWarning: Unlike other reduction functions (e.g. `skew`, `kurtosis`), the default behavior of `mode` typically preserves the axis it acts along. In SciPy 1.11.0, this behavior will change: the default value of `keepdims` will become False, the `axis` over which the statistic is taken will be eliminated, and the value None will no longer be accepted. Set `keepdims` to True or False to avoid this warning.\n",
      "  mode, _ = stats.mode(_y[neigh_ind, k], axis=1)\n",
      "c:\\Python\\Python310\\lib\\site-packages\\sklearn\\neighbors\\_classification.py:237: FutureWarning: Unlike other reduction functions (e.g. `skew`, `kurtosis`), the default behavior of `mode` typically preserves the axis it acts along. In SciPy 1.11.0, this behavior will change: the default value of `keepdims` will become False, the `axis` over which the statistic is taken will be eliminated, and the value None will no longer be accepted. Set `keepdims` to True or False to avoid this warning.\n",
      "  mode, _ = stats.mode(_y[neigh_ind, k], axis=1)\n",
      "c:\\Python\\Python310\\lib\\site-packages\\sklearn\\neighbors\\_classification.py:237: FutureWarning: Unlike other reduction functions (e.g. `skew`, `kurtosis`), the default behavior of `mode` typically preserves the axis it acts along. In SciPy 1.11.0, this behavior will change: the default value of `keepdims` will become False, the `axis` over which the statistic is taken will be eliminated, and the value None will no longer be accepted. Set `keepdims` to True or False to avoid this warning.\n",
      "  mode, _ = stats.mode(_y[neigh_ind, k], axis=1)\n",
      "c:\\Python\\Python310\\lib\\site-packages\\sklearn\\neighbors\\_classification.py:237: FutureWarning: Unlike other reduction functions (e.g. `skew`, `kurtosis`), the default behavior of `mode` typically preserves the axis it acts along. In SciPy 1.11.0, this behavior will change: the default value of `keepdims` will become False, the `axis` over which the statistic is taken will be eliminated, and the value None will no longer be accepted. Set `keepdims` to True or False to avoid this warning.\n",
      "  mode, _ = stats.mode(_y[neigh_ind, k], axis=1)\n",
      "c:\\Python\\Python310\\lib\\site-packages\\sklearn\\neighbors\\_classification.py:237: FutureWarning: Unlike other reduction functions (e.g. `skew`, `kurtosis`), the default behavior of `mode` typically preserves the axis it acts along. In SciPy 1.11.0, this behavior will change: the default value of `keepdims` will become False, the `axis` over which the statistic is taken will be eliminated, and the value None will no longer be accepted. Set `keepdims` to True or False to avoid this warning.\n",
      "  mode, _ = stats.mode(_y[neigh_ind, k], axis=1)\n",
      "c:\\Python\\Python310\\lib\\site-packages\\sklearn\\neighbors\\_classification.py:237: FutureWarning: Unlike other reduction functions (e.g. `skew`, `kurtosis`), the default behavior of `mode` typically preserves the axis it acts along. In SciPy 1.11.0, this behavior will change: the default value of `keepdims` will become False, the `axis` over which the statistic is taken will be eliminated, and the value None will no longer be accepted. Set `keepdims` to True or False to avoid this warning.\n",
      "  mode, _ = stats.mode(_y[neigh_ind, k], axis=1)\n",
      "c:\\Python\\Python310\\lib\\site-packages\\sklearn\\neighbors\\_classification.py:237: FutureWarning: Unlike other reduction functions (e.g. `skew`, `kurtosis`), the default behavior of `mode` typically preserves the axis it acts along. In SciPy 1.11.0, this behavior will change: the default value of `keepdims` will become False, the `axis` over which the statistic is taken will be eliminated, and the value None will no longer be accepted. Set `keepdims` to True or False to avoid this warning.\n",
      "  mode, _ = stats.mode(_y[neigh_ind, k], axis=1)\n",
      "c:\\Python\\Python310\\lib\\site-packages\\sklearn\\neighbors\\_classification.py:237: FutureWarning: Unlike other reduction functions (e.g. `skew`, `kurtosis`), the default behavior of `mode` typically preserves the axis it acts along. In SciPy 1.11.0, this behavior will change: the default value of `keepdims` will become False, the `axis` over which the statistic is taken will be eliminated, and the value None will no longer be accepted. Set `keepdims` to True or False to avoid this warning.\n",
      "  mode, _ = stats.mode(_y[neigh_ind, k], axis=1)\n",
      "c:\\Python\\Python310\\lib\\site-packages\\sklearn\\neighbors\\_classification.py:237: FutureWarning: Unlike other reduction functions (e.g. `skew`, `kurtosis`), the default behavior of `mode` typically preserves the axis it acts along. In SciPy 1.11.0, this behavior will change: the default value of `keepdims` will become False, the `axis` over which the statistic is taken will be eliminated, and the value None will no longer be accepted. Set `keepdims` to True or False to avoid this warning.\n",
      "  mode, _ = stats.mode(_y[neigh_ind, k], axis=1)\n",
      "c:\\Python\\Python310\\lib\\site-packages\\sklearn\\neighbors\\_classification.py:237: FutureWarning: Unlike other reduction functions (e.g. `skew`, `kurtosis`), the default behavior of `mode` typically preserves the axis it acts along. In SciPy 1.11.0, this behavior will change: the default value of `keepdims` will become False, the `axis` over which the statistic is taken will be eliminated, and the value None will no longer be accepted. Set `keepdims` to True or False to avoid this warning.\n",
      "  mode, _ = stats.mode(_y[neigh_ind, k], axis=1)\n",
      "c:\\Python\\Python310\\lib\\site-packages\\sklearn\\neighbors\\_classification.py:237: FutureWarning: Unlike other reduction functions (e.g. `skew`, `kurtosis`), the default behavior of `mode` typically preserves the axis it acts along. In SciPy 1.11.0, this behavior will change: the default value of `keepdims` will become False, the `axis` over which the statistic is taken will be eliminated, and the value None will no longer be accepted. Set `keepdims` to True or False to avoid this warning.\n",
      "  mode, _ = stats.mode(_y[neigh_ind, k], axis=1)\n",
      "c:\\Python\\Python310\\lib\\site-packages\\sklearn\\neighbors\\_classification.py:237: FutureWarning: Unlike other reduction functions (e.g. `skew`, `kurtosis`), the default behavior of `mode` typically preserves the axis it acts along. In SciPy 1.11.0, this behavior will change: the default value of `keepdims` will become False, the `axis` over which the statistic is taken will be eliminated, and the value None will no longer be accepted. Set `keepdims` to True or False to avoid this warning.\n",
      "  mode, _ = stats.mode(_y[neigh_ind, k], axis=1)\n",
      "c:\\Python\\Python310\\lib\\site-packages\\sklearn\\neighbors\\_classification.py:237: FutureWarning: Unlike other reduction functions (e.g. `skew`, `kurtosis`), the default behavior of `mode` typically preserves the axis it acts along. In SciPy 1.11.0, this behavior will change: the default value of `keepdims` will become False, the `axis` over which the statistic is taken will be eliminated, and the value None will no longer be accepted. Set `keepdims` to True or False to avoid this warning.\n",
      "  mode, _ = stats.mode(_y[neigh_ind, k], axis=1)\n",
      "c:\\Python\\Python310\\lib\\site-packages\\sklearn\\neighbors\\_classification.py:237: FutureWarning: Unlike other reduction functions (e.g. `skew`, `kurtosis`), the default behavior of `mode` typically preserves the axis it acts along. In SciPy 1.11.0, this behavior will change: the default value of `keepdims` will become False, the `axis` over which the statistic is taken will be eliminated, and the value None will no longer be accepted. Set `keepdims` to True or False to avoid this warning.\n",
      "  mode, _ = stats.mode(_y[neigh_ind, k], axis=1)\n",
      "c:\\Python\\Python310\\lib\\site-packages\\sklearn\\neighbors\\_classification.py:237: FutureWarning: Unlike other reduction functions (e.g. `skew`, `kurtosis`), the default behavior of `mode` typically preserves the axis it acts along. In SciPy 1.11.0, this behavior will change: the default value of `keepdims` will become False, the `axis` over which the statistic is taken will be eliminated, and the value None will no longer be accepted. Set `keepdims` to True or False to avoid this warning.\n",
      "  mode, _ = stats.mode(_y[neigh_ind, k], axis=1)\n",
      "c:\\Python\\Python310\\lib\\site-packages\\sklearn\\neighbors\\_classification.py:237: FutureWarning: Unlike other reduction functions (e.g. `skew`, `kurtosis`), the default behavior of `mode` typically preserves the axis it acts along. In SciPy 1.11.0, this behavior will change: the default value of `keepdims` will become False, the `axis` over which the statistic is taken will be eliminated, and the value None will no longer be accepted. Set `keepdims` to True or False to avoid this warning.\n",
      "  mode, _ = stats.mode(_y[neigh_ind, k], axis=1)\n",
      "c:\\Python\\Python310\\lib\\site-packages\\sklearn\\neighbors\\_classification.py:237: FutureWarning: Unlike other reduction functions (e.g. `skew`, `kurtosis`), the default behavior of `mode` typically preserves the axis it acts along. In SciPy 1.11.0, this behavior will change: the default value of `keepdims` will become False, the `axis` over which the statistic is taken will be eliminated, and the value None will no longer be accepted. Set `keepdims` to True or False to avoid this warning.\n",
      "  mode, _ = stats.mode(_y[neigh_ind, k], axis=1)\n",
      "c:\\Python\\Python310\\lib\\site-packages\\sklearn\\neighbors\\_classification.py:237: FutureWarning: Unlike other reduction functions (e.g. `skew`, `kurtosis`), the default behavior of `mode` typically preserves the axis it acts along. In SciPy 1.11.0, this behavior will change: the default value of `keepdims` will become False, the `axis` over which the statistic is taken will be eliminated, and the value None will no longer be accepted. Set `keepdims` to True or False to avoid this warning.\n",
      "  mode, _ = stats.mode(_y[neigh_ind, k], axis=1)\n",
      "c:\\Python\\Python310\\lib\\site-packages\\sklearn\\neighbors\\_classification.py:237: FutureWarning: Unlike other reduction functions (e.g. `skew`, `kurtosis`), the default behavior of `mode` typically preserves the axis it acts along. In SciPy 1.11.0, this behavior will change: the default value of `keepdims` will become False, the `axis` over which the statistic is taken will be eliminated, and the value None will no longer be accepted. Set `keepdims` to True or False to avoid this warning.\n",
      "  mode, _ = stats.mode(_y[neigh_ind, k], axis=1)\n",
      "c:\\Python\\Python310\\lib\\site-packages\\sklearn\\neighbors\\_classification.py:237: FutureWarning: Unlike other reduction functions (e.g. `skew`, `kurtosis`), the default behavior of `mode` typically preserves the axis it acts along. In SciPy 1.11.0, this behavior will change: the default value of `keepdims` will become False, the `axis` over which the statistic is taken will be eliminated, and the value None will no longer be accepted. Set `keepdims` to True or False to avoid this warning.\n",
      "  mode, _ = stats.mode(_y[neigh_ind, k], axis=1)\n",
      "c:\\Python\\Python310\\lib\\site-packages\\sklearn\\neighbors\\_classification.py:237: FutureWarning: Unlike other reduction functions (e.g. `skew`, `kurtosis`), the default behavior of `mode` typically preserves the axis it acts along. In SciPy 1.11.0, this behavior will change: the default value of `keepdims` will become False, the `axis` over which the statistic is taken will be eliminated, and the value None will no longer be accepted. Set `keepdims` to True or False to avoid this warning.\n",
      "  mode, _ = stats.mode(_y[neigh_ind, k], axis=1)\n",
      "c:\\Python\\Python310\\lib\\site-packages\\sklearn\\neighbors\\_classification.py:237: FutureWarning: Unlike other reduction functions (e.g. `skew`, `kurtosis`), the default behavior of `mode` typically preserves the axis it acts along. In SciPy 1.11.0, this behavior will change: the default value of `keepdims` will become False, the `axis` over which the statistic is taken will be eliminated, and the value None will no longer be accepted. Set `keepdims` to True or False to avoid this warning.\n",
      "  mode, _ = stats.mode(_y[neigh_ind, k], axis=1)\n",
      "c:\\Python\\Python310\\lib\\site-packages\\sklearn\\neighbors\\_classification.py:237: FutureWarning: Unlike other reduction functions (e.g. `skew`, `kurtosis`), the default behavior of `mode` typically preserves the axis it acts along. In SciPy 1.11.0, this behavior will change: the default value of `keepdims` will become False, the `axis` over which the statistic is taken will be eliminated, and the value None will no longer be accepted. Set `keepdims` to True or False to avoid this warning.\n",
      "  mode, _ = stats.mode(_y[neigh_ind, k], axis=1)\n",
      "c:\\Python\\Python310\\lib\\site-packages\\sklearn\\neighbors\\_classification.py:237: FutureWarning: Unlike other reduction functions (e.g. `skew`, `kurtosis`), the default behavior of `mode` typically preserves the axis it acts along. In SciPy 1.11.0, this behavior will change: the default value of `keepdims` will become False, the `axis` over which the statistic is taken will be eliminated, and the value None will no longer be accepted. Set `keepdims` to True or False to avoid this warning.\n",
      "  mode, _ = stats.mode(_y[neigh_ind, k], axis=1)\n",
      "c:\\Python\\Python310\\lib\\site-packages\\sklearn\\neighbors\\_classification.py:237: FutureWarning: Unlike other reduction functions (e.g. `skew`, `kurtosis`), the default behavior of `mode` typically preserves the axis it acts along. In SciPy 1.11.0, this behavior will change: the default value of `keepdims` will become False, the `axis` over which the statistic is taken will be eliminated, and the value None will no longer be accepted. Set `keepdims` to True or False to avoid this warning.\n",
      "  mode, _ = stats.mode(_y[neigh_ind, k], axis=1)\n",
      "c:\\Python\\Python310\\lib\\site-packages\\sklearn\\neighbors\\_classification.py:237: FutureWarning: Unlike other reduction functions (e.g. `skew`, `kurtosis`), the default behavior of `mode` typically preserves the axis it acts along. In SciPy 1.11.0, this behavior will change: the default value of `keepdims` will become False, the `axis` over which the statistic is taken will be eliminated, and the value None will no longer be accepted. Set `keepdims` to True or False to avoid this warning.\n",
      "  mode, _ = stats.mode(_y[neigh_ind, k], axis=1)\n"
     ]
    }
   ],
   "source": [
    "# Split the data into training and testing sets\n",
    "X_train, X_test, y_train, y_test = train_test_split(features, labels, test_size=0.3, random_state=42)\n",
    "accuracy_values = []\n",
    "\n",
    "for k in range(3, 30):\n",
    "    # Instantiate the KNN classifier with k=3\n",
    "    knn = KNeighborsClassifier(n_neighbors=k)\n",
    "\n",
    "    # Train the KNN model on the training data\n",
    "    knn.fit(X_train, y_train)\n",
    "\n",
    "    # Make predictions on the testing data\n",
    "    y_pred = knn.predict(X_test)\n",
    "\n",
    "    # Calculate the accuracy of the KNN model on the testing data\n",
    "    accuracy_values.append(accuracy_score(y_test, y_pred))\n",
    "\n",
    "built_in_accuracy = max(accuracy_values)\n"
   ]
  },
  {
   "cell_type": "code",
   "execution_count": 10,
   "metadata": {},
   "outputs": [
    {
     "data": {
      "image/png": "[encoded data removed]",
      "text/plain": [
       "<Figure size 432x288 with 1 Axes>"
      ]
     },
     "metadata": {
      "needs_background": "light"
     },
     "output_type": "display_data"
    }
   ],
   "source": [
    "import pandas as pd\n",
    "import matplotlib.pyplot as plt\n",
    "\n",
    "# Load the dataset\n",
    "haberman = pd.read_csv('haberman.csv')\n",
    "\n",
    "# Separate the data into features (X) and target (y)\n",
    "X = haberman.iloc[:, :-1].values\n",
    "y = haberman.iloc[:, -1].values\n",
    "\n",
    "# Create a scatter plot of the data\n",
    "plt.scatter(X[:, 0], X[:, 1], c=y, cmap='coolwarm')\n",
    "plt.xlabel('Age of patient')\n",
    "plt.ylabel('Year of operation')\n",
    "plt.title('Haberman Heart Disease Dataset')\n",
    "plt.show()\n",
    "\n"
   ]
  },
  {
   "attachments": {},
   "cell_type": "markdown",
   "metadata": {},
   "source": [
    "Add Distorted Patterns to Data"
   ]
  },
  {
   "cell_type": "code",
   "execution_count": 11,
   "metadata": {},
   "outputs": [
    {
     "name": "stdout",
     "output_type": "stream",
     "text": [
      "Max values: [83.0, 69.0, 52.0, 1]\n",
      "Min values: [30.0, 58.0, 0.0, 0]\n"
     ]
    }
   ],
   "source": [
    "# Find the maximum and minimum value of each column\n",
    "num_cols = len(data[0])\n",
    "max_vals = [max(col) for col in zip(*data)]\n",
    "min_vals = [min(col) for col in zip(*data)]\n",
    "\n",
    "# Print the maximum and minimum values\n",
    "print(\"Max values:\", max_vals)\n",
    "print(\"Min values:\", min_vals)\n"
   ]
  },
  {
   "cell_type": "code",
   "execution_count": 12,
   "metadata": {},
   "outputs": [],
   "source": [
    "\n",
    "\n",
    "\n",
    "for i in range(0, 200):\n",
    "    row = []\n",
    "    for j in range(4):\n",
    "        if j==3:\n",
    "            row.append(random.randint(unique_labels[0], unique_labels[1]))\n",
    "        else:\n",
    "            row.append(random.uniform(-max_vals[j]*10, min_vals[j]))\n",
    "    \n",
    "    data.append(row)\n",
    "\n",
    "random.shuffle(data)"
   ]
  },
  {
   "cell_type": "code",
   "execution_count": 13,
   "metadata": {},
   "outputs": [
    {
     "name": "stdout",
     "output_type": "stream",
     "text": [
      "506\n",
      "[[73.0, 62.0, 0.0, 0], [-218.794303421834, -350.67477762080927, -107.86807149294657, 1], [63.0, 63.0, 0.0, 0], [-472.5128448992631, -522.7431972775805, -74.54416851741735, 2], [55.0, 68.0, 15.0, 1], [43.0, 64.0, 0.0, 1], [-10.231542884958117, -599.0232391632238, -139.12266757642317, 1], [58.0, 61.0, 2.0, 0], [-46.69489057146734, -152.43432337409615, -480.39520614562645, 2], [54.0, 62.0, 0.0, 0], [69.0, 66.0, 0.0, 0], [66.0, 61.0, 13.0, 1], [49.0, 67.0, 1.0, 0], [-720.5343520146813, -650.0861224981567, -498.8928955607335, 2], [-711.3740358942767, 25.812929038233506, -329.7679063941479, 2], [56.0, 60.0, 0.0, 0], [39.0, 58.0, 0.0, 0], [-112.81385060559751, -570.502204736188, -16.79338675698665, 1], [37.0, 58.0, 0.0, 0], [44.0, 61.0, 0.0, 0], [-768.693783885421, -405.824926502884, -19.208955644140815, 1], [-113.4348223006541, -557.6534128559483, -144.92827027071485, 1], [31.0, 65.0, 4.0, 0], [53.0, 65.0, 12.0, 1], [34.0, 67.0, 7.0, 0], [60.0, 59.0, 17.0, 1], [-606.2635133300191, 38.699023739745144, -253.02607559976542, 1], [65.0, 64.0, 0.0, 0], [34.0, 58.0, 30.0, 0], [-373.8322774361567, -591.4198965111043, -450.4909695492539, 2], [70.0, 67.0, 0.0, 0], [-573.8325756345253, -21.59171711662168, -124.88412239932802, 2], [67.0, 63.0, 1.0, 1], [-123.0621957214172, -229.3483658549399, -454.2130622799663, 1], [-266.6314929506891, -289.45516387699826, -323.5155341170955, 2], [54.0, 60.0, 11.0, 1], [52.0, 68.0, 0.0, 0], [55.0, 67.0, 1.0, 0], [38.0, 66.0, 11.0, 0], [43.0, 63.0, 14.0, 0], [-112.45322052066297, 14.605106220620428, -478.8149602158126, 2], [38.0, 62.0, 3.0, 0], [53.0, 61.0, 1.0, 0], [-72.78872666042867, -207.8479377471719, -472.8044581159334, 2], [38.0, 64.0, 1.0, 0], [-238.6792696889254, -445.8044574116383, -370.0499449989178, 2], [-471.7093795327769, -41.183083245180796, -79.02316144435179, 2], [-96.06418148858393, -88.74412618204735, -97.84374016118545, 2], [-168.40465710372519, 15.176687252596025, -409.50780227900077, 1], [51.0, 66.0, 1.0, 0], [53.0, 63.0, 24.0, 1], [46.0, 62.0, 0.0, 0], [53.0, 65.0, 1.0, 1], [38.0, 60.0, 0.0, 0], [-780.1131213435278, -650.909991060553, -336.3222200235756, 2], [-780.6251967942437, -379.6015630725183, -458.34393730749935, 1], [77.0, 65.0, 3.0, 0], [62.0, 65.0, 19.0, 1], [68.0, 68.0, 0.0, 0], [62.0, 66.0, 0.0, 0], [63.0, 60.0, 1.0, 1], [48.0, 67.0, 7.0, 1], [41.0, 69.0, 8.0, 0], [-436.18668950977633, -21.994382710769628, -104.83507472794474, 2], [61.0, 59.0, 0.0, 0], [62.0, 66.0, 0.0, 0], [49.0, 64.0, 10.0, 1], [-46.86634613107981, -233.2598835597505, -349.9918293240759, 1], [-154.81673402422518, -239.59888401856233, -329.0420470554395, 1], [61.0, 64.0, 0.0, 0], [47.0, 62.0, 0.0, 1], [-51.484615958752556, -584.5687258027019, -475.58808417429583, 1], [70.0, 66.0, 14.0, 0], [44.0, 63.0, 1.0, 0], [47.0, 58.0, 3.0, 0], [-150.1124314828752, 47.684856495162194, -360.0307599672217, 2], [-204.52255034183372, -431.85016915531315, -258.3440193939289, 2], [-431.52942781366016, -87.1766453956177, -130.56326807430588, 1], [64.0, 58.0, 0.0, 0], [-605.649260924808, -191.45909714388745, -160.87824986081915, 1], [65.0, 66.0, 15.0, 1], [-812.1777329500846, -55.7789835837184, -420.1939017650879, 1], [39.0, 59.0, 2.0, 0], [42.0, 59.0, 0.0, 1], [45.0, 59.0, 14.0, 0], [-144.76982883056723, -530.3190782406875, -35.52499242335381, 1], [38.0, 66.0, 0.0, 0], [41.0, 64.0, 0.0, 1], [46.0, 58.0, 2.0, 1], [-465.0093137834913, -659.8636732067101, -382.5518194042669, 2], [55.0, 69.0, 22.0, 0], [-149.03242818298258, -166.552081673958, -264.8031977138627, 2], [51.0, 59.0, 1.0, 0], [-510.3565373873503, -404.1275418039203, -479.2583220499672, 2], [42.0, 61.0, 4.0, 0], [-778.6135379387824, -493.06616539658177, -296.55822548200126, 2], [65.0, 59.0, 2.0, 0], [-471.3330446228705, -610.9055869456868, -294.2603937934797, 2], [59.0, 64.0, 1.0, 0], [49.0, 62.0, 1.0, 0], [74.0, 63.0, 0.0, 0], [-778.970525928762, 30.545172393352345, -400.0549158441537, 2], [-17.73570794521231, -78.61844705486646, -348.0989937016427, 2], [53.0, 60.0, 2.0, 0], [-743.038965178844, -313.8213560268446, -361.0452519736458, 1], [-219.70197394384434, -262.74452047732257, -417.69648839607333, 1], [-528.0718584809612, -149.47678561754287, -112.45613936326112, 1], [47.0, 68.0, 4.0, 0], [12.563807741355049, 44.275991830813155, -243.90761751848555, 1], [37.0, 60.0, 0.0, 0], [47.0, 60.0, 4.0, 0], [-811.5749061875682, -551.4220007215072, -216.0857579012216, 2], [-720.2666247717437, -456.9397298912033, -203.55518992098956, 2], [55.0, 58.0, 1.0, 0], [40.0, 65.0, 0.0, 0], [34.0, 60.0, 1.0, 0], [41.0, 67.0, 0.0, 1], [7.2437684000683475, -43.3741322819086, -135.78271703149431, 2], [45.0, 60.0, 0.0, 0], [50.0, 64.0, 0.0, 1], [-167.0651286463243, -627.4216165537802, -265.9172811395183, 2], [-2.2263678782700254, -545.0004768077447, -82.41661903820949, 1], [60.0, 61.0, 25.0, 0], [62.0, 58.0, 0.0, 0], [-393.0604183875334, -147.24691631291296, -160.47935933763313, 1], [-176.58296289773386, -275.41162382496424, -52.20799187018889, 2], [-155.31776650976644, -159.42776973939544, -246.3838120112827, 1], [-398.57284047787385, -611.42511195272, -242.76042399663038, 1], [57.0, 64.0, 0.0, 0], [61.0, 62.0, 5.0, 1], [50.0, 66.0, 1.0, 0], [67.0, 66.0, 0.0, 0], [-501.1411972901635, -675.4796963384076, -208.6152166651516, 1], [41.0, 65.0, 0.0, 0], [-328.7668756585564, -450.98043519837734, -68.34006663484553, 1], [65.0, 64.0, 0.0, 0], [-213.1929836806712, -186.48739219066715, -202.31905342766214, 1], [48.0, 58.0, 11.0, 1], [70.0, 68.0, 0.0, 0], [54.0, 65.0, 5.0, 1], [52.0, 66.0, 4.0, 1], [-822.137229813487, -374.7427575961868, -464.94660380394555, 2], [60.0, 64.0, 0.0, 0], [-506.8792472748196, 5.782369637821262, -269.1539960645314, 1], [1.9313820880753383, -280.63332767683875, -347.6339665540131, 2], [60.0, 65.0, 0.0, 1], [-770.0673628926075, -308.0303047496908, -516.9625144650611, 1], [43.0, 64.0, 0.0, 1], [46.0, 69.0, 3.0, 1], [-285.06098195825336, -470.63275282103814, -347.5557373363459, 1], [52.0, 62.0, 1.0, 0], [49.0, 62.0, 0.0, 0], [42.0, 59.0, 2.0, 0], [-173.16834032301415, -525.3198040046702, -259.3130606407521, 2], [-398.9863224947527, -645.3833104545919, -77.3242513842174, 2], [53.0, 60.0, 9.0, 1], [33.0, 60.0, 0.0, 0], [-580.46082408531, -48.92397530696553, -433.1431962581264, 1], [53.0, 58.0, 1.0, 0], [-218.29475311575015, -614.6715657658744, -297.7095495507349, 1], [50.0, 58.0, 1.0, 0], [46.0, 63.0, 0.0, 0], [57.0, 62.0, 0.0, 0], [57.0, 63.0, 0.0, 0], [59.0, 64.0, 4.0, 0], [83.0, 58.0, 2.0, 1], [43.0, 64.0, 2.0, 0], [-395.0785013399042, -50.0853228978865, -229.87164948533956, 1], [50.0, 59.0, 2.0, 0], [59.0, 63.0, 0.0, 0], [70.0, 58.0, 4.0, 1], [34.0, 61.0, 10.0, 0], [-510.78946325897977, -284.18180035491594, -166.78049190314073, 2], [-105.63480676057691, -388.15459824522145, -35.42142343786139, 2], [-256.09179691676593, -173.20263195030486, -481.43613413146477, 2], [52.0, 69.0, 0.0, 0], [55.0, 58.0, 1.0, 0], [56.0, 60.0, 0.0, 0], [61.0, 59.0, 0.0, 0], [-565.6545970090957, -111.82589580694071, -265.2024478012728, 1], [-192.18232151458824, -570.148239988422, -297.55583328640967, 1], [-464.0585848988281, -276.15231220432327, -158.3693376273987, 1], [-290.13740526894276, -617.1712301098869, -158.05086854061125, 1], [-786.4555449727791, -284.1872073571114, -466.7238289544437, 1], [34.0, 66.0, 9.0, 1], [45.0, 67.0, 0.0, 0], [48.0, 61.0, 8.0, 0], [36.0, 69.0, 0.0, 0], [54.0, 60.0, 3.0, 0], [-65.3152314474163, -609.6994271457207, -64.07640951440959, 1], [43.0, 59.0, 2.0, 1], [-778.4561805334453, -96.28326066050761, -229.74713195539124, 1], [61.0, 59.0, 0.0, 0], [48.0, 62.0, 2.0, 0], [-697.1151898163434, 39.3366739217945, -307.6395757847634, 1], [62.0, 58.0, 0.0, 1], [67.0, 66.0, 0.0, 0], [35.0, 63.0, 0.0, 0], [-481.6131956842576, -241.82411451088956, -421.64291381643505, 2], [-23.130839275544872, -290.3943703349853, -234.4884961191193, 2], [-295.09018634042025, -194.26468352567053, -107.87252196800637, 2], [57.0, 62.0, 14.0, 1], [65.0, 58.0, 0.0, 0], [-185.68868412698953, -668.2267171296414, -514.5541116901317, 2], [59.0, 67.0, 3.0, 0], [44.0, 61.0, 0.0, 0], [37.0, 63.0, 0.0, 0], [53.0, 59.0, 3.0, 1], [-195.20287729849633, -174.83308284461145, -328.1006941199044, 1], [38.0, 60.0, 0.0, 0], [50.0, 59.0, 0.0, 0], [64.0, 61.0, 0.0, 0], [-573.2754644975564, -607.7447332711736, -495.39822469962974, 2], [76.0, 67.0, 0.0, 0], [-468.57749758420863, -277.8972228462897, -290.0546799669589, 1], [-198.85323089896247, -345.32176926169467, -377.8110783988776, 2], [66.0, 58.0, 0.0, 1], [-538.4916986784449, -596.190164515101, -292.5452606681638, 2], [71.0, 68.0, 2.0, 0], [-413.08689770736333, -105.6715723753831, -392.2929530865426, 2], [68.0, 67.0, 0.0, 0], [54.0, 68.0, 7.0, 1], [49.0, 63.0, 0.0, 1], [50.0, 61.0, 6.0, 0], [-390.4189735365646, -104.88092139687785, -151.24893592684646, 1], [-246.62012488754033, -485.52825021006197, -278.8900913599619, 2], [-744.6598921160695, -181.83860667405452, -153.38572871052963, 1], [-3.6300355817090804, -68.91508571909469, -442.50057688326297, 1], [40.0, 58.0, 0.0, 0], [12.10887051775569, -212.20665788500185, -295.51370533785416, 1], [-690.2128129037757, -123.28217155890002, -391.21129534547583, 1], [-445.1888703530327, -652.140314050558, -445.3952783719886, 2], [38.0, 69.0, 21.0, 1], [54.0, 63.0, 19.0, 0], [61.0, 65.0, 0.0, 1], [52.0, 65.0, 0.0, 0], [-639.3930938699316, -652.4375994271178, -480.54136319776023, 2], [-581.1570283639605, -331.06480429809136, -55.18299274442427, 1], [-315.07380005260563, -223.93707243057787, -350.0587224669158, 2], [52.0, 61.0, 0.0, 0], [-295.55114885066644, -610.552517249244, -427.41232373346975, 2], [-147.7819086724004, -409.57168689712614, -479.4664896986394, 2], [49.0, 60.0, 1.0, 0], [-455.57607601126597, -74.87065071509812, -475.78403129756884, 1], [63.0, 63.0, 0.0, 0], [50.0, 61.0, 0.0, 0], [-649.7638812774593, -147.6259414821667, -464.42729351318366, 2], [-638.4204031943456, -255.4437761630216, -215.25876159310803, 2], [-166.80416364017094, -546.6769177391277, -454.1147859072987, 1], [-351.1417154304093, -283.1574090493551, -210.56444936662842, 2], [50.0, 64.0, 0.0, 0], [61.0, 68.0, 0.0, 0], [67.0, 61.0, 0.0, 0], [41.0, 58.0, 0.0, 0], [-585.1462850329578, -17.405718922681558, -292.9879076034334, 2], [45.0, 68.0, 0.0, 0], [55.0, 66.0, 0.0, 0], [-431.7564632167132, -20.73289582716427, -372.02933661431507, 2], [-646.7941357681455, -228.71989466799693, -434.2188493859624, 2], [52.0, 64.0, 0.0, 0], [64.0, 68.0, 0.0, 0], [-161.28367137993587, -192.95969782851432, -51.07261793049594, 2], [-103.2234249439199, -374.5327933790253, -494.50841733866514, 1], [54.0, 58.0, 1.0, 0], [-393.0363817290033, -269.9401832935703, -504.01323306410507, 1], [69.0, 60.0, 0.0, 0], [-430.78120923616405, 6.000643547643449, -177.65640409917938, 1], [72.0, 58.0, 0.0, 0], [57.0, 64.0, 0.0, 0], [-197.11938023133166, -449.1574715638965, -337.3807483793988, 1], [-660.5890354651989, 6.955104755010893, -367.6521867082821, 1], [44.0, 67.0, 16.0, 0], [-765.4158826387691, -414.6215265928769, -244.60524364732163, 2], [60.0, 67.0, 2.0, 0], [58.0, 60.0, 3.0, 0], [53.0, 60.0, 1.0, 0], [34.0, 60.0, 0.0, 0], [45.0, 66.0, 0.0, 1], [66.0, 68.0, 0.0, 0], [-735.3080406652547, -287.36428072323747, -393.5797703077255, 2], [51.0, 59.0, 3.0, 1], [37.0, 63.0, 0.0, 0], [-569.0089873250682, -337.94160914442904, -209.90264379464338, 2], [60.0, 61.0, 1.0, 0], [-567.765606187417, -619.6242450565077, -99.92115166455153, 1], [63.0, 62.0, 0.0, 0], [38.0, 59.0, 2.0, 0], [73.0, 68.0, 0.0, 0], [55.0, 58.0, 0.0, 0], [62.0, 59.0, 13.0, 1], [72.0, 64.0, 0.0, 0], [53.0, 63.0, 0.0, 0], [42.0, 62.0, 20.0, 0], [70.0, 58.0, 0.0, 1], [69.0, 67.0, 8.0, 1], [42.0, 69.0, 1.0, 1], [54.0, 62.0, 0.0, 0], [57.0, 64.0, 1.0, 1], [43.0, 66.0, 4.0, 0], [-567.9394343216504, -524.2598038873476, -477.235624409874, 1], [75.0, 62.0, 1.0, 0], [36.0, 60.0, 1.0, 0], [-820.0030579412236, -331.8781928977875, -375.0790104792669, 1], [65.0, 67.0, 1.0, 0], [-615.738259544325, -113.84407148246555, -241.20067817344602, 1], [-396.98990526915594, -314.3535298854272, -20.37518452465821, 2], [-379.2795787908814, -492.66761640850007, -66.4660765419307, 1], [49.0, 66.0, 0.0, 0], [65.0, 58.0, 0.0, 1], [47.0, 65.0, 0.0, 1], [65.0, 62.0, 22.0, 1], [-419.12143253820915, -642.5334789582495, -133.97258552416417, 2], [70.0, 63.0, 0.0, 0], [38.0, 60.0, 1.0, 0], [-712.820069163564, -291.47727774232277, -352.51014109694256, 2], [-533.5942243621287, -192.67941469133405, -472.11095025987635, 2], [78.0, 65.0, 1.0, 1], [55.0, 66.0, 18.0, 0], [45.0, 64.0, 0.0, 0], [64.0, 66.0, 0.0, 0], [49.0, 61.0, 0.0, 0], [61.0, 68.0, 1.0, 1], [-674.4405052888834, -116.77889455779166, -325.38486087595373, 1], [44.0, 58.0, 9.0, 1], [-794.0181632987187, -472.48733013320793, -255.58585199023406, 2], [50.0, 63.0, 13.0, 1], [67.0, 65.0, 0.0, 0], [-682.4236844582849, -593.5308065804775, -464.15153704082695, 2], [57.0, 61.0, 0.0, 0], [13.378272720109976, 50.84374246431503, -337.2521278795911, 2], [59.0, 60.0, 0.0, 0], [69.0, 65.0, 0.0, 0], [-474.0301286725352, -433.0231631219318, -51.969176125466106, 2], [-132.85213137647122, -98.7735340004316, -14.321522701961214, 2], [59.0, 64.0, 7.0, 0], [48.0, 64.0, 0.0, 0], [-771.0270645660565, -143.34363673826329, -357.827767561102, 2], [47.0, 66.0, 12.0, 0], [-600.7517650365713, -540.5169901225631, -94.66168213668118, 2], [-25.105558384453957, -599.5924543266792, -105.08325952627757, 2], [-79.39735011936648, -205.62881343332384, -447.6212578004496, 2], [59.0, 62.0, 35.0, 1], [47.0, 63.0, 6.0, 0], [-578.6003916107863, -305.9049005328293, -4.7637109992446085, 1], [55.0, 63.0, 6.0, 1], [54.0, 69.0, 7.0, 0], [52.0, 62.0, 3.0, 1], [48.0, 58.0, 11.0, 1], [41.0, 59.0, 8.0, 0], [33.0, 58.0, 10.0, 0], [51.0, 59.0, 13.0, 1], [-663.2440189599045, -515.3792531139471, -29.550162769298765, 2], [-518.1919699298671, -519.3876383569292, -231.4869427640677, 2], [56.0, 67.0, 0.0, 0], [41.0, 59.0, 0.0, 0], [30.0, 64.0, 1.0, 0], [44.0, 64.0, 6.0, 1], [51.0, 64.0, 7.0, 0], [-82.45680311083981, -278.92355147876737, -89.43142252907637, 1], [-806.7706027585516, -243.10569317509226, -396.64982168994317, 1], [-805.4989148484633, -336.2246153177322, -13.134907954414246, 2], [58.0, 58.0, 0.0, 0], [-649.1751633246631, -217.22077391117756, -240.66590682130817, 2], [-811.0051060478181, -504.7782537152809, -386.76371041680227, 2], [-99.50832428971512, -62.32943998893268, -233.3290782156315, 2], [-762.6494632352976, -288.63405981117677, -486.29334992784266, 2], [42.0, 65.0, 0.0, 0], [42.0, 63.0, 1.0, 0], [-137.6804141217118, -559.2994461168232, -94.22283145090012, 1], [49.0, 63.0, 3.0, 0], [-378.11674121885216, -123.25542292350644, -420.93576243575717, 2], [-729.4822391887103, -566.318135590444, -491.8748387650726, 1], [21.673568461498576, -368.48859125363145, -28.73943357292029, 2], [35.0, 64.0, 13.0, 0], [57.0, 64.0, 9.0, 0], [-404.1155839105298, -505.8660958248515, -517.3426650002134, 2], [54.0, 67.0, 46.0, 0], [56.0, 65.0, 9.0, 1], [45.0, 67.0, 1.0, 0], [-356.85138465154773, -526.97671999145, -317.6576596384849, 2], [43.0, 63.0, 2.0, 0], [-628.6120222733734, -497.99618452529194, -242.66091307721013, 1], [41.0, 64.0, 0.0, 0], [-613.3559536051846, -119.93893811135968, -432.63395612753345, 2], [-402.23134392967006, -526.8483356884442, -178.27637001779362, 2], [-3.5175584677991765, -258.9775674069955, -128.53911428824853, 1], [31.0, 59.0, 2.0, 0], [47.0, 67.0, 0.0, 0], [57.0, 67.0, 0.0, 0], [-578.4653718623415, -172.676312377381, -9.314599375904606, 1], [52.0, 63.0, 4.0, 0], [62.0, 62.0, 6.0, 0], [37.0, 60.0, 15.0, 0], [65.0, 67.0, 0.0, 0], [47.0, 63.0, 23.0, 1], [39.0, 63.0, 4.0, 0], [-429.4870445461383, -524.6982532065515, -104.32382111399727, 1], [-526.7613373799484, -324.6703176414137, -166.8058765100451, 1], [-809.016058067179, -88.16566078344033, -362.53975907040547, 2], [-109.90840559481637, -27.116774180515904, -255.07473090168088, 1], [46.0, 58.0, 3.0, 0], [-548.6930206984837, -615.9585428316395, -158.91297499721287, 1], [47.0, 61.0, 0.0, 0], [48.0, 66.0, 0.0, 0], [67.0, 64.0, 8.0, 1], [54.0, 59.0, 7.0, 0], [42.0, 60.0, 1.0, 0], [-494.55613211230275, -596.4914520283979, -476.1295245204679, 2], [56.0, 66.0, 3.0, 1], [57.0, 69.0, 0.0, 0], [-744.2456858126275, -218.1212393228551, -231.66074633446738, 1], [-293.14557140213583, -523.0246308650308, -195.38627801623846, 1], [74.0, 65.0, 3.0, 1], [52.0, 69.0, 3.0, 1], [56.0, 66.0, 2.0, 0], [-727.7439708827511, 49.46978985178339, -467.683391324523, 2], [43.0, 64.0, 3.0, 0], [49.0, 61.0, 1.0, 0], [-246.81047073558454, -383.388811120597, -75.50299900220409, 1], [-171.76859685269483, -30.701618344351004, -272.1246096888698, 1], [30.0, 62.0, 3.0, 0], [58.0, 59.0, 0.0, 0], [66.0, 58.0, 0.0, 0], [-565.4692570195928, -523.7283729642631, -354.7571284757231, 2], [-423.8867063386129, -88.26319064335905, -123.6876016039372, 2], [70.0, 59.0, 8.0, 0], [39.0, 63.0, 0.0, 0], [53.0, 58.0, 4.0, 1], [-239.2056621515385, -348.41526125455545, -262.1169949648638, 2], [44.0, 63.0, 19.0, 1], [-535.2895793354353, -541.0234736256983, -59.27909465963597, 2], [50.0, 63.0, 1.0, 0], [63.0, 61.0, 9.0, 0], [43.0, 65.0, 0.0, 0], [50.0, 61.0, 0.0, 0], [52.0, 60.0, 5.0, 0], [-115.46889005257208, -161.88458309753025, -63.24813166618662, 2], [63.0, 61.0, 0.0, 0], [41.0, 60.0, 23.0, 1], [37.0, 59.0, 6.0, 0], [56.0, 66.0, 1.0, 0], [65.0, 61.0, 2.0, 1], [39.0, 66.0, 0.0, 1], [-386.8405035767274, 18.025016947214567, -127.42040478944801, 2], [-93.15091293471141, -490.0030848984443, -86.1623840988712, 2], [63.0, 66.0, 0.0, 0], [-257.35303755401867, -510.30840758082854, -482.0669112892447, 1], [-410.892268303886, -494.1227332234987, -240.60939173207169, 2], [-575.025731462036, -57.45378937468888, -375.5347599818705, 2], [-305.7154451065393, -215.18453772591994, -357.2057671044131, 2], [-226.07707595058253, 52.33049522165527, -388.2694920787838, 1], [-662.4820416415068, -370.3429654124658, -517.6414375971182, 2], [41.0, 65.0, 0.0, 0], [54.0, 66.0, 0.0, 0], [63.0, 61.0, 28.0, 0], [45.0, 67.0, 1.0, 1], [43.0, 60.0, 0.0, 0], [45.0, 65.0, 6.0, 1], [-198.8167928841765, -210.74322543189788, -414.4317757365093, 1], [58.0, 67.0, 0.0, 0], [29.20548144322936, -170.27683443189562, -342.39482699624, 1], [-320.8602361523116, -110.24565095196454, -210.42440431260258, 1], [50.0, 65.0, 4.0, 0], [46.0, 62.0, 5.0, 1], [-421.226495023928, -689.9179484423562, -256.2448125109197, 2], [64.0, 65.0, 22.0, 0], [47.0, 66.0, 0.0, 0], [42.0, 58.0, 0.0, 0], [-236.6339532106175, -509.76066405008214, -265.40312612881974, 2], [-222.96117837467148, -483.39645609997444, -449.9705805659637, 1], [-670.6068113069745, -481.7863422879009, -40.024057820304506, 1], [61.0, 65.0, 8.0, 0], [-705.6084343382504, -604.8933541674966, -74.17742374890929, 2], [30.0, 65.0, 0.0, 0], [58.0, 61.0, 1.0, 0], [58.0, 58.0, 3.0, 0], [-346.2890271947403, -137.96495534242752, -16.19878283169328, 1], [46.0, 65.0, 20.0, 1], [66.0, 58.0, 1.0, 0], [-436.5686764570185, -500.1280381843242, -339.4878538714681, 2], [38.0, 67.0, 5.0, 0], [51.0, 65.0, 0.0, 0], [40.0, 58.0, 2.0, 0], [52.0, 59.0, 2.0, 1], [-778.1355827183669, -108.70710173395878, -406.4463676015911, 1], [-32.71656639047569, -258.27316174867536, -344.62244219858457, 1], [72.0, 67.0, 3.0, 0], [52.0, 62.0, 0.0, 0], [57.0, 61.0, 5.0, 1], [-503.4765057599109, -277.8713044960566, -391.3472326873899, 1], [52.0, 60.0, 4.0, 0], [55.0, 69.0, 3.0, 0], [43.0, 58.0, 52.0, 1], [-43.20017139357776, -233.08472820042135, -457.35918309879725, 1], [-95.39990978376852, -551.9470487297846, -492.48518936412904, 2], [-479.8619995944024, -510.86485555828796, -214.29583387295253, 2], [54.0, 65.0, 23.0, 1], [-173.07880720668925, -661.5722909263022, -47.322675934192716, 2], [-335.259361569801, -652.1948572344629, -189.03806959499542, 1], [39.0, 67.0, 0.0, 0], [34.0, 59.0, 0.0, 1], [-180.89893197143238, -347.4266833082723, -127.85283330710274, 2], [72.0, 63.0, 0.0, 1], [59.0, 64.0, 0.0, 0], [-744.8152825532884, -385.0890824714981, -66.80341006178946, 2], [-112.45048740607501, -223.61662047253532, -8.596339851603602, 2]]\n"
     ]
    }
   ],
   "source": [
    "# Shuffle the dataset\n",
    "random.shuffle(data)\n",
    "print(len(data))\n",
    "\n",
    "# Set the ratio of training data to testing data\n",
    "train_ratio = 0.6\n",
    "test_ratio = 0.4\n",
    "\n",
    "# Calculate the number of instances to use for training and testing\n",
    "num_train = int(len(data) * train_ratio)\n",
    "num_test = len(data) - num_train\n",
    "\n",
    "train_data = data[:num_train]\n",
    "test_data = data[num_train:]\n",
    "print(data)\n"
   ]
  },
  {
   "cell_type": "code",
   "execution_count": 14,
   "metadata": {},
   "outputs": [],
   "source": [
    "accuracy_with_distorted_patterns = change_k(30)"
   ]
  },
  {
   "cell_type": "code",
   "execution_count": 15,
   "metadata": {},
   "outputs": [
    {
     "name": "stdout",
     "output_type": "stream",
     "text": [
      "Accuracy without distorted patterns: (72.58064516129032, 29)\n",
      "Accuracy using Built-in module: 76.08695652173914\n",
      "Accuracy with distorted patterns: (42.857142857142854, 29)\n"
     ]
    }
   ],
   "source": [
    "print(\"Accuracy without distorted patterns:\", accuracy_without_distorted_patterns)\n",
    "print(\"Accuracy using Built-in module:\", built_in_accuracy*100)\n",
    "print(\"Accuracy with distorted patterns:\", accuracy_with_distorted_patterns)"
   ]
  },
  {
   "cell_type": "code",
   "execution_count": null,
   "metadata": {},
   "outputs": [],
   "source": []
  }
 ],
 "metadata": {
  "kernelspec": {
   "display_name": "Python 3",
   "language": "python",
   "name": "python3"
  },
  "language_info": {
   "codemirror_mode": {
    "name": "ipython",
    "version": 3
   },
   "file_extension": ".py",
   "mimetype": "text/x-python",
   "name": "python",
   "nbconvert_exporter": "python",
   "pygments_lexer": "ipython3",
   "version": "3.10.4"
  },
  "orig_nbformat": 4
 },
 "nbformat": 4,
 "nbformat_minor": 2
}
